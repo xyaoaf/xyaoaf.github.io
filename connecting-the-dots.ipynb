{
 "cells": [
  {
   "cell_type": "markdown",
   "id": "77c02497",
   "metadata": {},
   "source": [
    "# Connecting the Dots: Interactive Knowledge Web\n",
    "## Mini-Geo Journey 1: Theories of Space and Place\n",
    "\n",
    "**Author:** Xihan Yao  \n",
    "**Course:** Graduate Geography  \n",
    "**Assignment:** First Mini-Geo Journey - Space/Place Theory Engagement  \n",
    "**Date:** September 2025\n",
    "\n",
    "---\n",
    "\n",
    "### About This Notebook\n",
    "\n",
    "Welcome to my **interactive Mini-Geo Journey** exploring how theories of space and place shape my intellectual development and research trajectory toward understanding built-environment-personality relationships.\n",
    "\n",
    "This notebook demonstrates my theoretical engagement by:\n",
    "- 📚 **Reading Analysis**: Parsing and visualizing my comprehensive bibliography across three research domains\n",
    "- 🕸️ **Knowledge Networks**: Creating interactive visualizations showing connections between different papers and theories\n",
    "- 🎯 **Research Roadmap**: Mapping my intellectual journey from foundational spatial theory to contemporary GeoAI applications\n",
    "- 🔍 **Interactive Exploration**: Allowing detailed examination of individual papers and their relationships\n",
    "\n",
    "**Research Question**: How do foundational theories of space and place inform contemporary built-environment-personality research through GeoAI methodologies?"
   ]
  },
  {
   "cell_type": "code",
   "execution_count": 2,
   "id": "23d0220e",
   "metadata": {},
   "outputs": [
    {
     "name": "stdout",
     "output_type": "stream",
     "text": [
      "✅ Libraries imported successfully!\n",
      "📊 Plotly version: 6.3.0\n",
      "🕸️ NetworkX version: 3.5\n",
      "🔧 Interactive widgets: Available\n"
     ]
    }
   ],
   "source": [
    "# Import required libraries\n",
    "import pandas as pd\n",
    "import numpy as np\n",
    "import plotly.graph_objects as go\n",
    "import plotly.express as px\n",
    "from plotly.subplots import make_subplots\n",
    "import networkx as nx\n",
    "from bs4 import BeautifulSoup\n",
    "import os\n",
    "from pathlib import Path\n",
    "import re\n",
    "from datetime import datetime\n",
    "import warnings\n",
    "warnings.filterwarnings('ignore')\n",
    "\n",
    "# Try to import interactive widgets\n",
    "try:\n",
    "    import ipywidgets as widgets\n",
    "    from IPython.display import display, HTML\n",
    "    WIDGETS_AVAILABLE = True\n",
    "except ImportError:\n",
    "    WIDGETS_AVAILABLE = False\n",
    "    print(\"IPython widgets not available. Some interactive features may be limited.\")\n",
    "\n",
    "print(\"✅ Libraries imported successfully!\")\n",
    "try:\n",
    "    import plotly\n",
    "    print(f\"📊 Plotly version: {plotly.__version__}\")\n",
    "except AttributeError:\n",
    "    print(\"📊 Plotly: Available\")\n",
    "print(f\"🕸️ NetworkX version: {nx.__version__}\")\n",
    "print(f\"🔧 Interactive widgets: {'Available' if WIDGETS_AVAILABLE else 'Limited'}\")"
   ]
  },
  {
   "cell_type": "code",
   "execution_count": 3,
   "id": "0cb0df2e",
   "metadata": {},
   "outputs": [
    {
     "name": "stdout",
     "output_type": "stream",
     "text": [
      "📚 Loaded 6 papers from GeoAI\n",
      "📚 Loaded 29 papers from GeoPersonality\n",
      "📚 Loaded 7 papers from IssuesGeo\n",
      "\n",
      "✅ Total papers loaded: 42\n",
      "📊 Domains: {'GeoPersonality': 29, 'IssuesGeo': 7, 'GeoAI': 6}\n",
      "\n",
      "📋 Sample Papers:\n"
     ]
    },
    {
     "data": {
      "text/html": [
       "<div>\n",
       "<style scoped>\n",
       "    .dataframe tbody tr th:only-of-type {\n",
       "        vertical-align: middle;\n",
       "    }\n",
       "\n",
       "    .dataframe tbody tr th {\n",
       "        vertical-align: top;\n",
       "    }\n",
       "\n",
       "    .dataframe thead th {\n",
       "        text-align: right;\n",
       "    }\n",
       "</style>\n",
       "<table border=\"1\" class=\"dataframe\">\n",
       "  <thead>\n",
       "    <tr style=\"text-align: right;\">\n",
       "      <th></th>\n",
       "      <th>title</th>\n",
       "      <th>author</th>\n",
       "      <th>year</th>\n",
       "      <th>domain</th>\n",
       "    </tr>\n",
       "  </thead>\n",
       "  <tbody>\n",
       "    <tr>\n",
       "      <th>0</th>\n",
       "      <td>Brown, C. F., Kazmierski, M. R., Pasquarella, ...</td>\n",
       "      <td>Brown, C.</td>\n",
       "      <td>2025.0</td>\n",
       "      <td>GeoAI</td>\n",
       "    </tr>\n",
       "    <tr>\n",
       "      <th>1</th>\n",
       "      <td>G</td>\n",
       "      <td>Goodchild, M.</td>\n",
       "      <td>2004.0</td>\n",
       "      <td>GeoAI</td>\n",
       "    </tr>\n",
       "    <tr>\n",
       "      <th>2</th>\n",
       "      <td>(2021)</td>\n",
       "      <td>Goodchild, M.</td>\n",
       "      <td>2021.0</td>\n",
       "      <td>GeoAI</td>\n",
       "    </tr>\n",
       "  </tbody>\n",
       "</table>\n",
       "</div>"
      ],
      "text/plain": [
       "                                               title         author    year  \\\n",
       "0  Brown, C. F., Kazmierski, M. R., Pasquarella, ...      Brown, C.  2025.0   \n",
       "1                                                  G  Goodchild, M.  2004.0   \n",
       "2                                             (2021)  Goodchild, M.  2021.0   \n",
       "\n",
       "  domain  \n",
       "0  GeoAI  \n",
       "1  GeoAI  \n",
       "2  GeoAI  "
      ]
     },
     "execution_count": 3,
     "metadata": {},
     "output_type": "execute_result"
    }
   ],
   "source": [
    "# Load and Parse HTML Bibliography Data\n",
    "def parse_html_bibliography(file_path):\n",
    "    \"\"\"Parse HTML bibliography file and extract paper information\"\"\"\n",
    "    try:\n",
    "        with open(file_path, 'r', encoding='utf-8') as f:\n",
    "            content = f.read()\n",
    "        \n",
    "        soup = BeautifulSoup(content, 'html.parser')\n",
    "        papers = []\n",
    "        \n",
    "        # Find all bibliography entries\n",
    "        entries = soup.find_all('div', class_='csl-entry')\n",
    "        \n",
    "        for i, entry in enumerate(entries):\n",
    "            text = entry.get_text(strip=True)\n",
    "            links = entry.find_all('a')\n",
    "            \n",
    "            # Extract basic info with regex patterns\n",
    "            # Author pattern (before year or title)\n",
    "            author_match = re.match(r'^([^.]+?\\.)', text)\n",
    "            author = author_match.group(1) if author_match else \"Unknown\"\n",
    "            \n",
    "            # Year pattern\n",
    "            year_match = re.search(r'\\((\\d{4})\\)', text)\n",
    "            year = int(year_match.group(1)) if year_match else None\n",
    "            \n",
    "            # Title pattern (usually in quotes or after author)\n",
    "            title_match = re.search(r'[\"\"\"]([^\"\"\"]+)[\"\"\"]', text)\n",
    "            if not title_match:\n",
    "                # Alternative: text after period and before journal/venue\n",
    "                title_match = re.search(r'\\. ([^.]+?)\\. ', text)\n",
    "            title = title_match.group(1) if title_match else text[:100] + \"...\"\n",
    "            \n",
    "            # Journal/venue pattern\n",
    "            venue_match = re.search(r'<i>([^<]+)</i>', str(entry))\n",
    "            venue = venue_match.group(1) if venue_match else \"Unknown Venue\"\n",
    "            \n",
    "            # DOI/URL\n",
    "            url = links[0]['href'] if links else None\n",
    "            \n",
    "            papers.append({\n",
    "                'id': i,\n",
    "                'title': title.strip(),\n",
    "                'author': author.strip(),\n",
    "                'year': year,\n",
    "                'venue': venue.strip(),\n",
    "                'url': url,\n",
    "                'full_citation': text,\n",
    "                'domain': Path(file_path).stem  # GeoAI, GeoPersonality, or IssuesGeo\n",
    "            })\n",
    "        \n",
    "        return papers\n",
    "    \n",
    "    except Exception as e:\n",
    "        print(f\"Error parsing {file_path}: {e}\")\n",
    "        return []\n",
    "\n",
    "# Load all bibliography files\n",
    "files_dir = Path(\"files/papers/\")\n",
    "bibliography_files = {\n",
    "    'GeoAI': files_dir / 'GeoAI.html',\n",
    "    'GeoPersonality': files_dir / 'GeoPersonality.html', \n",
    "    'IssuesGeo': files_dir / 'IssuesGeo.html'\n",
    "}\n",
    "\n",
    "all_papers = []\n",
    "for domain, file_path in bibliography_files.items():\n",
    "    if file_path.exists():\n",
    "        papers = parse_html_bibliography(file_path)\n",
    "        all_papers.extend(papers)\n",
    "        print(f\"📚 Loaded {len(papers)} papers from {domain}\")\n",
    "    else:\n",
    "        print(f\"⚠️ File not found: {file_path}\")\n",
    "\n",
    "# Convert to DataFrame for analysis\n",
    "df_papers = pd.DataFrame(all_papers)\n",
    "print(f\"\\n✅ Total papers loaded: {len(df_papers)}\")\n",
    "print(f\"📊 Domains: {df_papers['domain'].value_counts().to_dict()}\")\n",
    "\n",
    "# Display sample data\n",
    "print(\"\\n📋 Sample Papers:\")\n",
    "df_papers.head(3)[['title', 'author', 'year', 'domain']].head()"
   ]
  },
  {
   "cell_type": "code",
   "execution_count": 4,
   "id": "0831c5b5",
   "metadata": {},
   "outputs": [
    {
     "name": "stdout",
     "output_type": "stream",
     "text": [
      "🕸️ Knowledge Network Created:\n",
      "   • Nodes: 32\n",
      "   • Edges: 42\n",
      "   • Domains: 3\n",
      "\n",
      "📊 Network Analysis:\n",
      "   • Average degree: 0.085\n",
      "   • Most connected nodes: [('domain_GeoPersonality', 0.9354838709677419), ('domain_IssuesGeo', 0.22580645161290322), ('domain_GeoAI', 0.1935483870967742)]\n"
     ]
    }
   ],
   "source": [
    "# Create Knowledge Network Analysis\n",
    "def create_knowledge_network(df):\n",
    "    \"\"\"Create a network graph showing relationships between papers and concepts\"\"\"\n",
    "    G = nx.Graph()\n",
    "    \n",
    "    # Define research domains and their characteristics\n",
    "    domain_info = {\n",
    "        'GeoAI': {\n",
    "            'color': '#007cba',\n",
    "            'description': 'AI applications in geography and spatial analysis',\n",
    "            'keywords': ['AI', 'machine learning', 'spatial', 'GeoAI', 'remote sensing']\n",
    "        },\n",
    "        'GeoPersonality': {\n",
    "            'color': '#4CAF50', \n",
    "            'description': 'Geographic variation in personality and behavior',\n",
    "            'keywords': ['personality', 'psychology', 'behavior', 'regional', 'cultural']\n",
    "        },\n",
    "        'IssuesGeo': {\n",
    "            'color': '#FF9800',\n",
    "            'description': 'Critical issues and challenges in geography',\n",
    "            'keywords': ['critical', 'social', 'political', 'justice', 'methodology']\n",
    "        }\n",
    "    }\n",
    "    \n",
    "    # Add nodes for each paper\n",
    "    for _, paper in df.iterrows():\n",
    "        domain = paper['domain']\n",
    "        G.add_node(\n",
    "            paper['id'],\n",
    "            title=paper['title'],\n",
    "            author=paper['author'],\n",
    "            year=paper['year'],\n",
    "            venue=paper['venue'],\n",
    "            domain=domain,\n",
    "            color=domain_info[domain]['color'],\n",
    "            size=20,\n",
    "            citation=paper['full_citation'],\n",
    "            url=paper['url']\n",
    "        )\n",
    "    \n",
    "    # Add domain nodes\n",
    "    for domain, info in domain_info.items():\n",
    "        domain_papers = df[df['domain'] == domain]\n",
    "        G.add_node(\n",
    "            f\"domain_{domain}\",\n",
    "            title=f\"{domain} Research Domain\",\n",
    "            description=info['description'],\n",
    "            type='domain',\n",
    "            color=info['color'],\n",
    "            size=40,\n",
    "            paper_count=len(domain_papers)\n",
    "        )\n",
    "        \n",
    "        # Connect domain node to all papers in that domain\n",
    "        for _, paper in domain_papers.iterrows():\n",
    "            G.add_edge(f\"domain_{domain}\", paper['id'])\n",
    "    \n",
    "    # Add cross-domain connections based on shared concepts\n",
    "    # This is a simplified approach - in reality, you might use more sophisticated NLP\n",
    "    for i, paper1 in df.iterrows():\n",
    "        for j, paper2 in df.iterrows():\n",
    "            if i >= j or paper1['domain'] == paper2['domain']:\n",
    "                continue\n",
    "                \n",
    "            # Simple keyword matching for connections\n",
    "            title1_words = set(paper1['title'].lower().split())\n",
    "            title2_words = set(paper2['title'].lower().split())\n",
    "            \n",
    "            # Check for common academic keywords\n",
    "            academic_keywords = {'urban', 'spatial', 'geographic', 'environment', 'analysis', 'data', 'model'}\n",
    "            common_academic = title1_words.intersection(title2_words).intersection(academic_keywords)\n",
    "            \n",
    "            if len(common_academic) > 0:\n",
    "                G.add_edge(paper1['id'], paper2['id'], weight=len(common_academic))\n",
    "    \n",
    "    return G, domain_info\n",
    "\n",
    "# Create the network\n",
    "network_graph, domain_info = create_knowledge_network(df_papers)\n",
    "\n",
    "print(f\"🕸️ Knowledge Network Created:\")\n",
    "print(f\"   • Nodes: {network_graph.number_of_nodes()}\")\n",
    "print(f\"   • Edges: {network_graph.number_of_edges()}\")\n",
    "print(f\"   • Domains: {len(domain_info)}\")\n",
    "\n",
    "# Calculate network metrics\n",
    "degree_centrality = nx.degree_centrality(network_graph)\n",
    "betweenness_centrality = nx.betweenness_centrality(network_graph)\n",
    "\n",
    "print(f\"\\n📊 Network Analysis:\")\n",
    "print(f\"   • Average degree: {np.mean(list(degree_centrality.values())):.3f}\")\n",
    "print(f\"   • Most connected nodes: {sorted(degree_centrality.items(), key=lambda x: x[1], reverse=True)[:3]}\")"
   ]
  },
  {
   "cell_type": "code",
   "execution_count": 5,
   "id": "e1d2aff5",
   "metadata": {},
   "outputs": [
    {
     "name": "stdout",
     "output_type": "stream",
     "text": [
      "🎨 Creating interactive network visualization...\n"
     ]
    },
    {
     "data": {
      "application/vnd.plotly.v1+json": {
       "config": {
        "plotlyServerURL": "https://plot.ly"
       },
       "data": [
        {
         "hoverinfo": "none",
         "line": {
          "color": "rgba(125,125,125,0.3)",
          "width": 0.5
         },
         "mode": "lines",
         "name": "Connections",
         "type": "scatter",
         "x": [
          -0.08787955449992454,
          -0.9574941255638835,
          null,
          -0.08787955449992454,
          -0.0379884618019401,
          null,
          -0.08787955449992454,
          0.928966907615657,
          null,
          0.8832307736709664,
          -0.9574941255638835,
          null,
          0.8832307736709664,
          -0.0379884618019401,
          null,
          0.8832307736709664,
          0.928966907615657,
          null,
          -0.6250536821072387,
          -0.9574941255638835,
          null,
          -0.6250536821072387,
          -0.0379884618019401,
          null,
          -0.6250536821072387,
          0.928966907615657,
          null,
          -0.9368354411221415,
          -0.9574941255638835,
          null,
          -0.9368354411221415,
          -0.0379884618019401,
          null,
          -0.9368354411221415,
          0.928966907615657,
          null,
          0.47955616490097014,
          -0.9574941255638835,
          null,
          0.47955616490097014,
          -0.0379884618019401,
          null,
          0.47955616490097014,
          0.928966907615657,
          null,
          -0.6663881706,
          -0.9574941255638835,
          null,
          -0.6663881706,
          -0.0379884618019401,
          null,
          -0.6663881706,
          0.928966907615657,
          null,
          0.8582119838762235,
          -0.0379884618019401,
          null,
          0.8582119838762235,
          0.928966907615657,
          null,
          -0.42943377069254485,
          -0.0379884618019401,
          null,
          -0.6672602669899949,
          -0.0379884618019401,
          null,
          0.5131726361182621,
          -0.0379884618019401,
          null,
          0.44929738806302505,
          -0.0379884618019401,
          null,
          -0.8049022156924006,
          -0.0379884618019401,
          null,
          0.11342294442918067,
          -0.0379884618019401,
          null,
          -0.9121038583431516,
          -0.0379884618019401,
          null,
          0.24901119745405437,
          -0.0379884618019401,
          null,
          0.6987230838601688,
          -0.0379884618019401,
          null,
          -0.4053811977493455,
          -0.0379884618019401,
          null,
          0.8808201847068865,
          -0.0379884618019401,
          null,
          -0.2013141511411952,
          -0.0379884618019401,
          null,
          0.9059114900940787,
          -0.0379884618019401,
          null,
          -0.9488845870075269,
          -0.0379884618019401,
          null,
          -0.8594704535628336,
          -0.0379884618019401,
          null,
          -0.29343894407706994,
          -0.0379884618019401,
          null,
          0.6257264805400131,
          -0.0379884618019401,
          null,
          0.024643244717875903,
          -0.0379884618019401,
          null,
          1,
          -0.0379884618019401,
          null,
          0.6941151351061664,
          -0.0379884618019401,
          null,
          0.3277732834209668,
          -0.0379884618019401,
          null,
          -0.7987540176233053,
          -0.0379884618019401,
          null
         ],
         "y": [
          0.9493988491944946,
          -0.2749794184319801,
          null,
          0.9493988491944946,
          -0.10074336717643399,
          null,
          0.9493988491944946,
          -0.29915187756731576,
          null,
          0.25689757660222345,
          -0.2749794184319801,
          null,
          0.25689757660222345,
          -0.10074336717643399,
          null,
          0.25689757660222345,
          -0.29915187756731576,
          null,
          -0.8025381165907267,
          -0.2749794184319801,
          null,
          -0.8025381165907267,
          -0.10074336717643399,
          null,
          -0.8025381165907267,
          -0.29915187756731576,
          null,
          0.29574543869611947,
          -0.2749794184319801,
          null,
          0.29574543869611947,
          -0.10074336717643399,
          null,
          0.29574543869611947,
          -0.29915187756731576,
          null,
          0.7418667325334416,
          -0.2749794184319801,
          null,
          0.7418667325334416,
          -0.10074336717643399,
          null,
          0.7418667325334416,
          -0.29915187756731576,
          null,
          0.7795531683339897,
          -0.2749794184319801,
          null,
          0.7795531683339897,
          -0.10074336717643399,
          null,
          0.7795531683339897,
          -0.29915187756731576,
          null,
          -0.5303965768722954,
          -0.10074336717643399,
          null,
          -0.5303965768722954,
          -0.29915187756731576,
          null,
          -0.9055688067375115,
          -0.10074336717643399,
          null,
          0.5339443984095504,
          -0.10074336717643399,
          null,
          -0.7349405116948885,
          -0.10074336717643399,
          null,
          -0.8872326518027074,
          -0.10074336717643399,
          null,
          -0.4526666342967382,
          -0.10074336717643399,
          null,
          0.8870793099764036,
          -0.10074336717643399,
          null,
          0.09867000225063438,
          -0.10074336717643399,
          null,
          -0.9979732124182553,
          -0.10074336717643399,
          null,
          -0.6542884065213822,
          -0.10074336717643399,
          null,
          0.8999501238371876,
          -0.10074336717643399,
          null,
          0.5016424999810658,
          -0.10074336717643399,
          null,
          -0.9926244483128811,
          -0.10074336717643399,
          null,
          -0.11166521120619644,
          -0.10074336717643399,
          null,
          -0.09463775283558748,
          -0.10074336717643399,
          null,
          0.5337303560450811,
          -0.10074336717643399,
          null,
          0.8195380867821844,
          -0.10074336717643399,
          null,
          0.4220559844237669,
          -0.10074336717643399,
          null,
          -0.975938190014138,
          -0.10074336717643399,
          null,
          0.09305061990690297,
          -0.10074336717643399,
          null,
          0.737890548864997,
          -0.10074336717643399,
          null,
          0.8919346039683124,
          -0.10074336717643399,
          null,
          -0.6276031173273167,
          -0.10074336717643399,
          null
         ]
        },
        {
         "customdata": [
          {
           "author": "Brown, C.",
           "citation": "Brown, C. F., Kazmierski, M. R., Pasquarella, V. J., Rucklidge, W. J., Samsikova, M., Zhang, C., Shelhamer, E., Lahera, E., Wiles, O., Ilyushchenko, S., Gorelick, N., Zhang, L. L., Alj, S., Schechter, E., Askay, S., Guinan, O., Moore, R., Boukouvalas, A., & Kohli, P. (2025).AlphaEarth Foundations: An embedding field model for accurate and efficient global mapping from sparse label data(No. arXiv:2507.22291). arXiv.https://doi.org/10.48550/arXiv.2507.22291",
           "title": "Brown, C. F., Kazmierski, M. R., Pasquarella, V. J., Rucklidge, W. J., Samsikova, M., Zhang, C., She...",
           "url": "https://doi.org/10.48550/arXiv.2507.22291",
           "venue": "AlphaEarth Foundations: An embedding field model for accurate and efficient global mapping from sparse label data",
           "year": 2025
          },
          {
           "author": "Goodchild, M.",
           "citation": "Goodchild, M. F., & Janelle, D. G. (2004). Thinking Spatially in the Social Sciences. In M. F. Goodchild & D. G. Janelle (Eds.),Spatially Integrated Social Science(p. 0). Oxford University Press.https://doi.org/10.1093/oso/9780195152708.003.0001",
           "title": "G",
           "url": "https://doi.org/10.1093/oso/9780195152708.003.0001",
           "venue": "Spatially Integrated Social Science",
           "year": 2004
          },
          {
           "author": "Goodchild, M.",
           "citation": "Goodchild, M. F., & Li, W. (2021). Replication across space and time must be weak in the social and environmental sciences.Proceedings of the National Academy of Sciences,118(35), e2015759118.https://doi.org/10.1073/pnas.2015759118",
           "title": "(2021)",
           "url": "https://doi.org/10.1073/pnas.2015759118",
           "venue": "Proceedings of the National Academy of Sciences",
           "year": 2021
          },
          {
           "author": "Hu, Y.",
           "citation": "Hu, Y., Gao, S., Lunga, D., Li, W., Newsam, S., & Bhaduri, B. (2019). GeoAI at ACM SIGSPATIAL: Progress, challenges, and future directions.SIGSPATIAL Special,11(2), 5–15.https://doi.org/10.1145/3377000.3377002",
           "title": "(2019)",
           "url": "https://doi.org/10.1145/3377000.3377002",
           "venue": "SIGSPATIAL Special",
           "year": 2019
          },
          {
           "author": "Janowicz, K.",
           "citation": "Janowicz, K., Gao, S., McKenzie, G., Hu, Y., & Bhaduri, B. (2020). GeoAI: Spatially explicit artificial intelligence techniques for geographic knowledge discovery and beyond.International Journal of Geographical Information Science,34(4), 625–636.https://doi.org/10.1080/13658816.2019.1684500",
           "title": "(2020)",
           "url": "https://doi.org/10.1080/13658816.2019.1684500",
           "venue": "International Journal of Geographical Information Science",
           "year": 2020
          },
          {
           "author": "Jean, N.",
           "citation": "Jean, N., Wang, S., Samar, A., Azzari, G., Lobell, D., & Ermon, S. (2019). Tile2Vec: Unsupervised Representation Learning for Spatially Distributed Data.Proceedings of the AAAI Conference on Artificial Intelligence,33(01), 3967–3974.https://doi.org/10.1609/aaai.v33i01.33013967",
           "title": "(2019)",
           "url": "https://doi.org/10.1609/aaai.v33i01.33013967",
           "venue": "Proceedings of the AAAI Conference on Artificial Intelligence",
           "year": 2019
          }
         ],
         "hovertemplate": "<b>%{customdata.title}</b><br>Author: %{customdata.author}<br>Year: %{customdata.year}<br>Venue: %{customdata.venue}<br><extra></extra>",
         "marker": {
          "color": "#007cba",
          "line": {
           "color": "white",
           "width": 2
          },
          "opacity": 0.8,
          "size": 15
         },
         "mode": "markers+text",
         "name": "GeoAI (6 papers)",
         "showlegend": true,
         "text": [
          "Brown, C. F., Kazmierski, M. R., Pasquarella, V. J...",
          "G...",
          "(2021)...",
          "(2019)...",
          "(2020)...",
          "(2019)..."
         ],
         "textfont": {
          "color": "white",
          "size": 8
         },
         "textposition": "middle center",
         "type": "scatter",
         "x": [
          -0.08787955449992454,
          0.8832307736709664,
          -0.6250536821072387,
          -0.9368354411221415,
          0.47955616490097014,
          -0.6663881706
         ],
         "y": [
          0.9493988491944946,
          0.25689757660222345,
          -0.8025381165907267,
          0.29574543869611947,
          0.7418667325334416,
          0.7795531683339897
         ]
        },
        {
         "customdata": [
          {
           "author": "A theory of the emergence, persistence, and expression of geographic variation in psychological characteristics—University of Texas at Austin.",
           "citation": "A theory of the emergence, persistence, and expression of geographic variation in psychological characteristics—University of Texas at Austin. (n.d.). Retrieved August 31, 2025, fromhttps://search.lib.utexas.edu",
           "title": "A theory of the emergence, persistence, and expression of geographic variation in psychological char...",
           "url": "https://search.lib.utexas.edu",
           "venue": "A theory of the emergence, persistence, and expression of geographic variation in psychological characteristics—University of Texas at Austin",
           "year": null
          },
          {
           "author": "Annual National Land Cover Database (NLCD) Collection 1 Products (ver.",
           "citation": "Annual National Land Cover Database (NLCD) Collection 1 Products (ver. 1.1, June 2025) | U.S. Geological Survey. (2025, January 18).https://www.usgs.gov/data/annual-national-land-cover-database-nlcd-collection-1-products",
           "title": "Geological Survey",
           "url": "https://www.usgs.gov/data/annual-national-land-cover-database-nlcd-collection-1-products",
           "venue": "Annual National Land Cover Database (NLCD) Collection 1 Products (ver. 1.1, June 2025) | U.S. Geological Survey",
           "year": null
          },
          {
           "author": "Biljecki, F.",
           "citation": "Biljecki, F., & Ito, K. (2021). Street view imagery in urban analytics and GIS: A review.Landscape and Urban Planning,215, 104217.https://doi.org/10.1016/j.landurbplan.2021.104217",
           "title": "(2021)",
           "url": "https://doi.org/10.1016/j.landurbplan.2021.104217",
           "venue": "Landscape and Urban Planning",
           "year": 2021
          },
          {
           "author": "Divided we stand: Three psychological regions of the United States and their political, economic, social, and health correlates.",
           "citation": "Divided we stand: Three psychological regions of the United States and their political, economic, social, and health correlates. - EBSCO. (n.d.). Retrieved August 31, 2025, fromhttps://research-ebsco-com.ezproxy.lib.utexas.edu/c/h67heq/viewer/pdf/5ifnwfqlhr?route=details",
           "title": "- EBSCO",
           "url": "https://research-ebsco-com.ezproxy.lib.utexas.edu/c/h67heq/viewer/pdf/5ifnwfqlhr?route=details",
           "venue": "Divided we stand: Three psychological regions of the United States and their political, economic, social, and health correlates. - EBSCO",
           "year": null
          },
          {
           "author": "Ebert, T.",
           "citation": "Ebert, T., Gebauer, Jochen. E., Brenner, T., Bleidorn, W., Gosling, S. D., Potter, J., & Rentfrow, P. J. (2022). Are Regional Differences in Psychological Characteristics and Their Correlates Robust? Applying Spatial-Analysis Techniques to Examine Regional Variation in Personality.Perspectives on Psychological Science,17(2), 407–441.https://doi.org/10.1177/1745691621998326",
           "title": "J",
           "url": "https://doi.org/10.1177/1745691621998326",
           "venue": "Perspectives on Psychological Science",
           "year": 2022
          },
          {
           "author": "Götz, F.",
           "citation": "Götz, F. M., Ebert, T., Gosling, S. D., Obschonka, M., Potter, J., & Rentfrow, P. J. (2021). Local housing market dynamics predict rapid shifts in cultural openness: A 9-year study across 199 cities.American Psychologist,76(6), 947–961.https://doi.org/10.1037/amp0000812",
           "title": "J",
           "url": "https://doi.org/10.1037/amp0000812",
           "venue": "American Psychologist",
           "year": 2021
          },
          {
           "author": "Götz, F.",
           "citation": "Götz, F. M., Gosling, S. D., & Rentfrow, P. J. (2022). Small Effects: The Indispensable Foundation for a Cumulative Psychological Science.Perspectives on Psychological Science,17(1), 205–215.https://doi.org/10.1177/1745691620984483",
           "title": "J",
           "url": "https://doi.org/10.1177/1745691620984483",
           "venue": "Perspectives on Psychological Science",
           "year": 2022
          },
          {
           "author": "Götz, F.",
           "citation": "Götz, F. M., Gosling, S. D., & Rentfrow, P. J. (2024). Effect sizes and what to make of them.Nature Human Behaviour,8(5), 798–800.https://doi.org/10.1038/s41562-024-01858-z",
           "title": "J",
           "url": "https://doi.org/10.1038/s41562-024-01858-z",
           "venue": "Nature Human Behaviour",
           "year": 2024
          },
          {
           "author": "Götz, F.",
           "citation": "Götz, F. M., Montello, D. R., Varnum, M. E. W., Luca, D., & Kenrick, D. T. (2025). A unified framework integrating psychology and geography.Nature Human Behaviour, 1–13.https://doi.org/10.1038/s41562-025-02237-y",
           "title": "E",
           "url": "https://doi.org/10.1038/s41562-025-02237-y",
           "venue": "Nature Human Behaviour",
           "year": 2025
          },
          {
           "author": "Ito, K.",
           "citation": "Ito, K., Kang, Y., Gosling, S. D., Potter, J., Yao, X., & Biljecki, F. (n.d.).Uncovering the Associations between Human Big Five Personality Traits and Built Environment Characteristics from Street View Imagery.",
           "title": "Ito, K., Kang, Y., Gosling, S. D., Potter, J., Yao, X., & Biljecki, F. (n.d.).Uncovering the Associa...",
           "url": null,
           "venue": "Uncovering the Associations between Human Big Five Personality Traits and Built Environment Characteristics from Street View Imagery",
           "year": null
          },
          {
           "author": "Ito, K.",
           "citation": "Ito, K., Zhu, Y., Abdelrahman, M., Liang, X., Fan, Z., Hou, Y., Zhao, T., Ma, R., Fujiwara, K., Ouyang, J., Quintana, M., & Biljecki, F. (2025). ZenSVI: An open-source software for the integrated acquisition, processing and analysis of street view imagery towards scalable urban science.Computers, Environment and Urban Systems,119, 102283.https://doi.org/10.1016/j.compenvurbsys.2025.102283",
           "title": "(2025)",
           "url": "https://doi.org/10.1016/j.compenvurbsys.2025.102283",
           "venue": "Computers, Environment and Urban Systems",
           "year": 2025
          },
          {
           "author": "Jiang, S.",
           "citation": "Jiang, S., Alves, A., Rodrigues, F., Ferreira, J., & Pereira, F. C. (2015). Mining point-of-interest data from social networks for urban land use classification and disaggregation.Computers, Environment and Urban Systems,53, 36–46.https://doi.org/10.1016/j.compenvurbsys.2014.12.001",
           "title": "C",
           "url": "https://doi.org/10.1016/j.compenvurbsys.2014.12.001",
           "venue": "Computers, Environment and Urban Systems",
           "year": 2015
          },
          {
           "author": "Jokela, M.",
           "citation": "Jokela, M., Bleidorn, W., Lamb, M. E., Gosling, S. D., & Rentfrow, P. J. (2015). Geographically varying associations between personality and life satisfaction in the London metropolitan area.Proceedings of the National Academy of Sciences,112(3), 725–730.https://doi.org/10.1073/pnas.1415800112",
           "title": "J",
           "url": "https://doi.org/10.1073/pnas.1415800112",
           "venue": "Proceedings of the National Academy of Sciences",
           "year": 2015
          },
          {
           "author": "Liu, L.",
           "citation": "Liu, L., Gu, X., Lan, M., Zhou, H., Chen, D., & Su, Z. (2025). Capturing the spatial arrangement of POIs in crime modeling.Computers, Environment and Urban Systems,117, 102245.https://doi.org/10.1016/j.compenvurbsys.2024.102245",
           "title": "(2025)",
           "url": "https://doi.org/10.1016/j.compenvurbsys.2024.102245",
           "venue": "Computers, Environment and Urban Systems",
           "year": 2025
          },
          {
           "author": "Liu, X.",
           "citation": "Liu, X., Andris, C., & Rahimi, S. (2019). Place niche and its regional variability: Measuring spatial context patterns for points of interest with representation learning.Computers, Environment and Urban Systems,75, 146–160.https://doi.org/10.1016/j.compenvurbsys.2019.01.011",
           "title": "(2019)",
           "url": "https://doi.org/10.1016/j.compenvurbsys.2019.01.011",
           "venue": "Computers, Environment and Urban Systems",
           "year": 2019
          },
          {
           "author": "Mewes, L.",
           "citation": "Mewes, L., Ebert, T., Obschonka, M., Rentfrow, P. J., Potter, J., & Gosling, S. D. (2022). Psychological Openness and the Emergence of Breakthrough vs. Incremental Innovations: A Regional Perspective.Economic Geography,98(4), 379–410.https://doi.org/10.1080/00130095.2022.2049228",
           "title": "D",
           "url": "https://doi.org/10.1080/00130095.2022.2049228",
           "venue": "Economic Geography",
           "year": 2022
          },
          {
           "author": "Militaru, I.",
           "citation": "Militaru, I. E., Serapio-García, G., Ebert, T., Kong, W., Gosling, S. D., Potter, J., Rentfrow, P. J., & Götz, F. M. (2024). The lay of the land: Associations between environmental features and personality.Journal of Personality,92(1), 88–110.https://doi.org/10.1111/jopy.12822",
           "title": "M",
           "url": "https://doi.org/10.1111/jopy.12822",
           "venue": "Journal of Personality",
           "year": 2024
          },
          {
           "author": "Obschonka, M.",
           "citation": "Obschonka, M., Stuetzer, M., Rentfrow, P. J., Potter, J., & Gosling, S. D. (2017). Did Strategic Bombing in the Second World War Lead to ‘German Angst’? A Large-scale Empirical Test Across 89 German Cities.European Journal of Personality,31(3), 234–257.https://doi.org/10.1002/per.2104",
           "title": "D",
           "url": "https://doi.org/10.1002/per.2104",
           "venue": "European Journal of Personality",
           "year": 2017
          },
          {
           "author": "Obschonka, M.",
           "citation": "Obschonka, M., Stuetzer, M., Rentfrow, P. J., Shaw-Taylor, L., Satchell, M., Silbereisen, R. K., Potter, J., & Gosling, S. D. (2018). In the shadow of coal: How large-scale industries contributed to present-day regional differences in personality and well-being.Journal of Personality and Social Psychology,115(5), 903–927.https://doi.org/10.1037/pspp0000175",
           "title": "D",
           "url": "https://doi.org/10.1037/pspp0000175",
           "venue": "Journal of Personality and Social Psychology",
           "year": 2018
          },
          {
           "author": "Pei, T.",
           "citation": "Pei, T., Sobolevsky, S., Ratti, C., Shaw, S.-L., Li, T., & Zhou, C. (2014). A new insight into land use classification based on aggregated mobile phone data.International Journal of Geographical Information Science,28(9), 1988–2007.https://doi.org/10.1080/13658816.2014.913794",
           "title": "(2014)",
           "url": "https://doi.org/10.1080/13658816.2014.913794",
           "venue": "International Journal of Geographical Information Science",
           "year": 2014
          },
          {
           "author": "Peters, H.",
           "citation": "Peters, H., Götz, F. M., Ebert, T., Müller, S. R., Rentfrow, P. J., Gosling, S. D., Obschonka, M., Ames, D., Potter, J., & Matz, S. C. (2023). Regional personality differences predict variation in early COVID-19 infections and mobility patterns indicative of social distancing.Journal of Personality and Social Psychology,124(4), 848–872.https://doi.org/10.1037/pspp0000439",
           "title": "C",
           "url": "https://doi.org/10.1037/pspp0000439",
           "venue": "Journal of Personality and Social Psychology",
           "year": 2023
          },
          {
           "author": "Rentfrow, P.",
           "citation": "Rentfrow, P. J., & Gosling, S. D. (2021). Putting personality in its place: A geographical perspective on personality traits. InHandbook of personality: Theory and research, 4th ed(pp. 824–836). The Guilford Press.",
           "title": "D",
           "url": null,
           "venue": "Handbook of personality: Theory and research, 4th ed",
           "year": 2021
          },
          {
           "author": "Rentfrow, P.",
           "citation": "Rentfrow, P. J., Gosling, S. D., Jokela, M., Stillwell, D. J., Kosinski, M., & Potter, J. (2013). Divided we stand: Three psychological regions of the United States and their political, economic, social, and health correlates.Journal of Personality and Social Psychology,105(6), 996–1012.https://doi.org/10.1037/a0034434",
           "title": "(2013)",
           "url": "https://doi.org/10.1037/a0034434",
           "venue": "Journal of Personality and Social Psychology",
           "year": 2013
          },
          {
           "author": "Rentfrow, P.",
           "citation": "Rentfrow, P. J., Gosling, S. D., & Potter, J. (2008). A Theory of the Emergence, Persistence, and Expression of Geographic Variation in Psychological Characteristics.Perspectives on Psychological Science: A Journal of the Association for Psychological Science,3(5), 339–369.https://doi.org/10.1111/j.1745-6924.2008.00084.x",
           "title": "(2008)",
           "url": "https://doi.org/10.1111/j.1745-6924.2008.00084.x",
           "venue": "Perspectives on Psychological Science: A Journal of the Association for Psychological Science",
           "year": 2008
          },
          {
           "author": "Stuetzer, M.",
           "citation": "Stuetzer, M., Brodeur, A., Obschonka, M., Audretsch, D. B., Rentfrow, J., Potter, J., & Gosling, S. (2022).A Golden Opportunity: The Gold Rush, Entrepreneurship and Culture(SSRN Scholarly Paper No. 4114397). Social Science Research Network.https://papers.ssrn.com/abstract=4114397",
           "title": "4114397)",
           "url": "https://papers.ssrn.com/abstract=4114397",
           "venue": "A Golden Opportunity: The Gold Rush, Entrepreneurship and Culture",
           "year": 2022
          },
          {
           "author": "Tolan, J.",
           "citation": "Tolan, J., Yang, H.-I., Nosarzewski, B., Couairon, G., Vo, H., Brandt, J., Spore, J., Majumdar, S., Haziza, D., Vamaraju, J., Moutakanni, T., Bojanowski, P., Johns, T., White, B., Tiecke, T., & Couprie, C. (2024). Very high resolution canopy height maps from RGB imagery using self-supervised vision transformer and convolutional decoder trained on Aerial Lidar.Remote Sensing of Environment,300, 113888.https://doi.org/10.1016/j.rse.2023.113888",
           "title": "(2024)",
           "url": "https://doi.org/10.1016/j.rse.2023.113888",
           "venue": "Remote Sensing of Environment",
           "year": 2024
          },
          {
           "author": "Wei, W.",
           "citation": "Wei, W., Lu, J. G., Galinsky, A. D., Wu, H., Gosling, S. D., Rentfrow, P. J., Yuan, W., Zhang, Q., Guo, Y., Zhang, M., Gui, W., Guo, X.-Y., Potter, J., Wang, J., Li, B., Li, X., Han, Y.-M., Lv, M., Guo, X.-Q., … Wang, L. (2017). Regional ambient temperature is associated with human personality.Nature Human Behaviour,1(12), 890–895.https://doi.org/10.1038/s41562-017-0240-0",
           "title": "(2017)",
           "url": "https://doi.org/10.1038/s41562-017-0240-0",
           "venue": "Nature Human Behaviour",
           "year": 2017
          },
          {
           "author": "Xu, W.",
           "citation": "Xu, W., Wang, Z., Attia, N., Attia, Y., Zhang, Y., & Zong, H. (2024). An experienced racial-ethnic diversity dataset in the United States using human mobility data.Scientific Data,11(1), 638.https://doi.org/10.1038/s41597-024-03490-y",
           "title": "(2024)",
           "url": "https://doi.org/10.1038/s41597-024-03490-y",
           "venue": "Scientific Data",
           "year": 2024
          },
          {
           "author": "Zhang, F.",
           "citation": "Zhang, F., Fan, Z., Kang, Y., Hu, Y., & Ratti, C. (2021). “Perception bias”: Deciphering a mismatch between urban crime and perception of safety.Landscape and Urban Planning,207, 104003.https://doi.org/10.1016/j.landurbplan.2020.104003",
           "title": "(2021)",
           "url": "https://doi.org/10.1016/j.landurbplan.2020.104003",
           "venue": "Landscape and Urban Planning",
           "year": 2021
          }
         ],
         "hovertemplate": "<b>%{customdata.title}</b><br>Author: %{customdata.author}<br>Year: %{customdata.year}<br>Venue: %{customdata.venue}<br><extra></extra>",
         "marker": {
          "color": "#4CAF50",
          "line": {
           "color": "white",
           "width": 2
          },
          "opacity": 0.8,
          "size": 15
         },
         "mode": "markers+text",
         "name": "GeoPersonality (29 papers)",
         "showlegend": true,
         "text": [
          "A theory of the emergence, persistence, and expres...",
          "Geological Survey...",
          "(2021)...",
          "- EBSCO...",
          "J...",
          "J...",
          "J...",
          "J...",
          "E...",
          "Ito, K., Kang, Y., Gosling, S. D., Potter, J., Yao...",
          "(2025)...",
          "C...",
          "J...",
          "(2025)...",
          "(2019)...",
          "D...",
          "M...",
          "D...",
          "D...",
          "(2014)...",
          "C...",
          "D...",
          "(2013)...",
          "(2008)...",
          "4114397)...",
          "(2024)...",
          "(2017)...",
          "(2024)...",
          "(2021)..."
         ],
         "textfont": {
          "color": "white",
          "size": 8
         },
         "textposition": "middle center",
         "type": "scatter",
         "x": [
          -0.08787955449992454,
          0.8832307736709664,
          -0.6250536821072387,
          -0.9368354411221415,
          0.47955616490097014,
          -0.6663881706,
          0.8582119838762235,
          -0.42943377069254485,
          -0.6672602669899949,
          0.5131726361182621,
          0.44929738806302505,
          -0.8049022156924006,
          0.11342294442918067,
          -0.9121038583431516,
          0.24901119745405437,
          0.6987230838601688,
          -0.4053811977493455,
          0.8808201847068865,
          -0.2013141511411952,
          0.9059114900940787,
          -0.9488845870075269,
          -0.8594704535628336,
          -0.29343894407706994,
          0.6257264805400131,
          0.024643244717875903,
          1,
          0.6941151351061664,
          0.3277732834209668,
          -0.7987540176233053
         ],
         "y": [
          0.9493988491944946,
          0.25689757660222345,
          -0.8025381165907267,
          0.29574543869611947,
          0.7418667325334416,
          0.7795531683339897,
          -0.5303965768722954,
          -0.9055688067375115,
          0.5339443984095504,
          -0.7349405116948885,
          -0.8872326518027074,
          -0.4526666342967382,
          0.8870793099764036,
          0.09867000225063438,
          -0.9979732124182553,
          -0.6542884065213822,
          0.8999501238371876,
          0.5016424999810658,
          -0.9926244483128811,
          -0.11166521120619644,
          -0.09463775283558748,
          0.5337303560450811,
          0.8195380867821844,
          0.4220559844237669,
          -0.975938190014138,
          0.09305061990690297,
          0.737890548864997,
          0.8919346039683124,
          -0.6276031173273167
         ]
        },
        {
         "customdata": [
          {
           "author": "Cox, K.",
           "citation": "Cox, K. (2021). Human and physical geography and the question of space.Belgeo. Revue Belge de Géographie,4.https://doi.org/10.4000/belgeo.52790",
           "title": "(2021)",
           "url": "https://doi.org/10.4000/belgeo.52790",
           "venue": "Belgeo. Revue Belge de Géographie",
           "year": 2021
          },
          {
           "author": "Fluri, J.",
           "citation": "Fluri, J. L. (2021). Political geography 1: Extractions.Progress in Human Geography,45(4), 855–865.https://doi.org/10.1177/0309132520970258",
           "title": "L",
           "url": "https://doi.org/10.1177/0309132520970258",
           "venue": "Progress in Human Geography",
           "year": 2021
          },
          {
           "author": "GeostatsPy_bootstrap.",
           "citation": "GeostatsPy_bootstrap. (n.d.). Retrieved September 10, 2025, fromhttp://localhost:8888/notebooks/textbook/GeostatsPy_bootstrap.ipynb",
           "title": "GeostatsPy_bootstrap. (n.d.). Retrieved September 10, 2025, fromhttp://localhost:8888/notebooks/text...",
           "url": "http://localhost:8888/notebooks/textbook/GeostatsPy_bootstrap.ipynb",
           "venue": "GeostatsPy_bootstrap",
           "year": null
          },
          {
           "author": "Goodchild, M.",
           "citation": "Goodchild, M. F. (2011). Scale in GIS: An overview.Geomorphology,130(1), 5–9.https://doi.org/10.1016/j.geomorph.2010.10.004",
           "title": "F",
           "url": "https://doi.org/10.1016/j.geomorph.2010.10.004",
           "venue": "Geomorphology",
           "year": 2011
          },
          {
           "author": "Kobayashi, A.",
           "citation": "Kobayashi, A. (2014). The Dialectic of Race and the Discipline of Geography.Annals of the Association of American Geographers,104(6), 1101–1115.https://doi.org/10.1080/00045608.2014.958388",
           "title": "(2014)",
           "url": "https://doi.org/10.1080/00045608.2014.958388",
           "venue": "Annals of the Association of American Geographers",
           "year": 2014
          },
          {
           "author": "Lin, Y.",
           "citation": "Lin, Y., & Kim, J. (2025). Pillars of GeoAI in Human Geography. In X. Huang, S. Wang, J. Wilson, & P. Kedron (Eds.),GeoAI and Human Geography: The Dawn of a New Spatial Intelligence Era(pp. 29–40). Springer Nature Switzerland.https://doi.org/10.1007/978-3-031-87421-5_3",
           "title": "(2025)",
           "url": "https://doi.org/10.1007/978-3-031-87421-5_3",
           "venue": "GeoAI and Human Geography: The Dawn of a New Spatial Intelligence Era",
           "year": 2025
          },
          {
           "author": "Mansfield, B.",
           "citation": "Mansfield, B., Lave, R., McSweeney, K., Bonds, A., Cockburn, J., Domosh, M., Hamilton, T., Hawkins, R., Hessl, A., Munroe, D., Ojeda, D., & Radel, C. (2019). It’s time to recognize how men’s careers benefit from sexually harassing women in academia.Human Geography,12(1), 82–87.https://doi.org/10.1177/194277861901200110",
           "title": "(2019)",
           "url": "https://doi.org/10.1177/194277861901200110",
           "venue": "Human Geography",
           "year": 2019
          }
         ],
         "hovertemplate": "<b>%{customdata.title}</b><br>Author: %{customdata.author}<br>Year: %{customdata.year}<br>Venue: %{customdata.venue}<br><extra></extra>",
         "marker": {
          "color": "#FF9800",
          "line": {
           "color": "white",
           "width": 2
          },
          "opacity": 0.8,
          "size": 15
         },
         "mode": "markers+text",
         "name": "IssuesGeo (7 papers)",
         "showlegend": true,
         "text": [
          "(2021)...",
          "L...",
          "GeostatsPy_bootstrap. (n.d.). Retrieved September ...",
          "F...",
          "(2014)...",
          "(2025)...",
          "(2019)..."
         ],
         "textfont": {
          "color": "white",
          "size": 8
         },
         "textposition": "middle center",
         "type": "scatter",
         "x": [
          -0.08787955449992454,
          0.8832307736709664,
          -0.6250536821072387,
          -0.9368354411221415,
          0.47955616490097014,
          -0.6663881706,
          0.8582119838762235
         ],
         "y": [
          0.9493988491944946,
          0.25689757660222345,
          -0.8025381165907267,
          0.29574543869611947,
          0.7418667325334416,
          0.7795531683339897,
          -0.5303965768722954
         ]
        }
       ],
       "layout": {
        "annotations": [
         {
          "font": {
           "color": "#7f8c8d",
           "size": 12
          },
          "showarrow": false,
          "text": "Click and drag to explore • Hover for details • Each color represents a research domain",
          "x": 0.005,
          "xanchor": "left",
          "xref": "paper",
          "y": -0.002,
          "yanchor": "bottom",
          "yref": "paper"
         }
        ],
        "height": 700,
        "hovermode": "closest",
        "margin": {
         "b": 20,
         "l": 5,
         "r": 5,
         "t": 40
        },
        "plot_bgcolor": "rgba(248,249,250,0.8)",
        "showlegend": true,
        "template": {
         "data": {
          "bar": [
           {
            "error_x": {
             "color": "#2a3f5f"
            },
            "error_y": {
             "color": "#2a3f5f"
            },
            "marker": {
             "line": {
              "color": "#E5ECF6",
              "width": 0.5
             },
             "pattern": {
              "fillmode": "overlay",
              "size": 10,
              "solidity": 0.2
             }
            },
            "type": "bar"
           }
          ],
          "barpolar": [
           {
            "marker": {
             "line": {
              "color": "#E5ECF6",
              "width": 0.5
             },
             "pattern": {
              "fillmode": "overlay",
              "size": 10,
              "solidity": 0.2
             }
            },
            "type": "barpolar"
           }
          ],
          "carpet": [
           {
            "aaxis": {
             "endlinecolor": "#2a3f5f",
             "gridcolor": "white",
             "linecolor": "white",
             "minorgridcolor": "white",
             "startlinecolor": "#2a3f5f"
            },
            "baxis": {
             "endlinecolor": "#2a3f5f",
             "gridcolor": "white",
             "linecolor": "white",
             "minorgridcolor": "white",
             "startlinecolor": "#2a3f5f"
            },
            "type": "carpet"
           }
          ],
          "choropleth": [
           {
            "colorbar": {
             "outlinewidth": 0,
             "ticks": ""
            },
            "type": "choropleth"
           }
          ],
          "contour": [
           {
            "colorbar": {
             "outlinewidth": 0,
             "ticks": ""
            },
            "colorscale": [
             [
              0,
              "#0d0887"
             ],
             [
              0.1111111111111111,
              "#46039f"
             ],
             [
              0.2222222222222222,
              "#7201a8"
             ],
             [
              0.3333333333333333,
              "#9c179e"
             ],
             [
              0.4444444444444444,
              "#bd3786"
             ],
             [
              0.5555555555555556,
              "#d8576b"
             ],
             [
              0.6666666666666666,
              "#ed7953"
             ],
             [
              0.7777777777777778,
              "#fb9f3a"
             ],
             [
              0.8888888888888888,
              "#fdca26"
             ],
             [
              1,
              "#f0f921"
             ]
            ],
            "type": "contour"
           }
          ],
          "contourcarpet": [
           {
            "colorbar": {
             "outlinewidth": 0,
             "ticks": ""
            },
            "type": "contourcarpet"
           }
          ],
          "heatmap": [
           {
            "colorbar": {
             "outlinewidth": 0,
             "ticks": ""
            },
            "colorscale": [
             [
              0,
              "#0d0887"
             ],
             [
              0.1111111111111111,
              "#46039f"
             ],
             [
              0.2222222222222222,
              "#7201a8"
             ],
             [
              0.3333333333333333,
              "#9c179e"
             ],
             [
              0.4444444444444444,
              "#bd3786"
             ],
             [
              0.5555555555555556,
              "#d8576b"
             ],
             [
              0.6666666666666666,
              "#ed7953"
             ],
             [
              0.7777777777777778,
              "#fb9f3a"
             ],
             [
              0.8888888888888888,
              "#fdca26"
             ],
             [
              1,
              "#f0f921"
             ]
            ],
            "type": "heatmap"
           }
          ],
          "histogram": [
           {
            "marker": {
             "pattern": {
              "fillmode": "overlay",
              "size": 10,
              "solidity": 0.2
             }
            },
            "type": "histogram"
           }
          ],
          "histogram2d": [
           {
            "colorbar": {
             "outlinewidth": 0,
             "ticks": ""
            },
            "colorscale": [
             [
              0,
              "#0d0887"
             ],
             [
              0.1111111111111111,
              "#46039f"
             ],
             [
              0.2222222222222222,
              "#7201a8"
             ],
             [
              0.3333333333333333,
              "#9c179e"
             ],
             [
              0.4444444444444444,
              "#bd3786"
             ],
             [
              0.5555555555555556,
              "#d8576b"
             ],
             [
              0.6666666666666666,
              "#ed7953"
             ],
             [
              0.7777777777777778,
              "#fb9f3a"
             ],
             [
              0.8888888888888888,
              "#fdca26"
             ],
             [
              1,
              "#f0f921"
             ]
            ],
            "type": "histogram2d"
           }
          ],
          "histogram2dcontour": [
           {
            "colorbar": {
             "outlinewidth": 0,
             "ticks": ""
            },
            "colorscale": [
             [
              0,
              "#0d0887"
             ],
             [
              0.1111111111111111,
              "#46039f"
             ],
             [
              0.2222222222222222,
              "#7201a8"
             ],
             [
              0.3333333333333333,
              "#9c179e"
             ],
             [
              0.4444444444444444,
              "#bd3786"
             ],
             [
              0.5555555555555556,
              "#d8576b"
             ],
             [
              0.6666666666666666,
              "#ed7953"
             ],
             [
              0.7777777777777778,
              "#fb9f3a"
             ],
             [
              0.8888888888888888,
              "#fdca26"
             ],
             [
              1,
              "#f0f921"
             ]
            ],
            "type": "histogram2dcontour"
           }
          ],
          "mesh3d": [
           {
            "colorbar": {
             "outlinewidth": 0,
             "ticks": ""
            },
            "type": "mesh3d"
           }
          ],
          "parcoords": [
           {
            "line": {
             "colorbar": {
              "outlinewidth": 0,
              "ticks": ""
             }
            },
            "type": "parcoords"
           }
          ],
          "pie": [
           {
            "automargin": true,
            "type": "pie"
           }
          ],
          "scatter": [
           {
            "fillpattern": {
             "fillmode": "overlay",
             "size": 10,
             "solidity": 0.2
            },
            "type": "scatter"
           }
          ],
          "scatter3d": [
           {
            "line": {
             "colorbar": {
              "outlinewidth": 0,
              "ticks": ""
             }
            },
            "marker": {
             "colorbar": {
              "outlinewidth": 0,
              "ticks": ""
             }
            },
            "type": "scatter3d"
           }
          ],
          "scattercarpet": [
           {
            "marker": {
             "colorbar": {
              "outlinewidth": 0,
              "ticks": ""
             }
            },
            "type": "scattercarpet"
           }
          ],
          "scattergeo": [
           {
            "marker": {
             "colorbar": {
              "outlinewidth": 0,
              "ticks": ""
             }
            },
            "type": "scattergeo"
           }
          ],
          "scattergl": [
           {
            "marker": {
             "colorbar": {
              "outlinewidth": 0,
              "ticks": ""
             }
            },
            "type": "scattergl"
           }
          ],
          "scattermap": [
           {
            "marker": {
             "colorbar": {
              "outlinewidth": 0,
              "ticks": ""
             }
            },
            "type": "scattermap"
           }
          ],
          "scattermapbox": [
           {
            "marker": {
             "colorbar": {
              "outlinewidth": 0,
              "ticks": ""
             }
            },
            "type": "scattermapbox"
           }
          ],
          "scatterpolar": [
           {
            "marker": {
             "colorbar": {
              "outlinewidth": 0,
              "ticks": ""
             }
            },
            "type": "scatterpolar"
           }
          ],
          "scatterpolargl": [
           {
            "marker": {
             "colorbar": {
              "outlinewidth": 0,
              "ticks": ""
             }
            },
            "type": "scatterpolargl"
           }
          ],
          "scatterternary": [
           {
            "marker": {
             "colorbar": {
              "outlinewidth": 0,
              "ticks": ""
             }
            },
            "type": "scatterternary"
           }
          ],
          "surface": [
           {
            "colorbar": {
             "outlinewidth": 0,
             "ticks": ""
            },
            "colorscale": [
             [
              0,
              "#0d0887"
             ],
             [
              0.1111111111111111,
              "#46039f"
             ],
             [
              0.2222222222222222,
              "#7201a8"
             ],
             [
              0.3333333333333333,
              "#9c179e"
             ],
             [
              0.4444444444444444,
              "#bd3786"
             ],
             [
              0.5555555555555556,
              "#d8576b"
             ],
             [
              0.6666666666666666,
              "#ed7953"
             ],
             [
              0.7777777777777778,
              "#fb9f3a"
             ],
             [
              0.8888888888888888,
              "#fdca26"
             ],
             [
              1,
              "#f0f921"
             ]
            ],
            "type": "surface"
           }
          ],
          "table": [
           {
            "cells": {
             "fill": {
              "color": "#EBF0F8"
             },
             "line": {
              "color": "white"
             }
            },
            "header": {
             "fill": {
              "color": "#C8D4E3"
             },
             "line": {
              "color": "white"
             }
            },
            "type": "table"
           }
          ]
         },
         "layout": {
          "annotationdefaults": {
           "arrowcolor": "#2a3f5f",
           "arrowhead": 0,
           "arrowwidth": 1
          },
          "autotypenumbers": "strict",
          "coloraxis": {
           "colorbar": {
            "outlinewidth": 0,
            "ticks": ""
           }
          },
          "colorscale": {
           "diverging": [
            [
             0,
             "#8e0152"
            ],
            [
             0.1,
             "#c51b7d"
            ],
            [
             0.2,
             "#de77ae"
            ],
            [
             0.3,
             "#f1b6da"
            ],
            [
             0.4,
             "#fde0ef"
            ],
            [
             0.5,
             "#f7f7f7"
            ],
            [
             0.6,
             "#e6f5d0"
            ],
            [
             0.7,
             "#b8e186"
            ],
            [
             0.8,
             "#7fbc41"
            ],
            [
             0.9,
             "#4d9221"
            ],
            [
             1,
             "#276419"
            ]
           ],
           "sequential": [
            [
             0,
             "#0d0887"
            ],
            [
             0.1111111111111111,
             "#46039f"
            ],
            [
             0.2222222222222222,
             "#7201a8"
            ],
            [
             0.3333333333333333,
             "#9c179e"
            ],
            [
             0.4444444444444444,
             "#bd3786"
            ],
            [
             0.5555555555555556,
             "#d8576b"
            ],
            [
             0.6666666666666666,
             "#ed7953"
            ],
            [
             0.7777777777777778,
             "#fb9f3a"
            ],
            [
             0.8888888888888888,
             "#fdca26"
            ],
            [
             1,
             "#f0f921"
            ]
           ],
           "sequentialminus": [
            [
             0,
             "#0d0887"
            ],
            [
             0.1111111111111111,
             "#46039f"
            ],
            [
             0.2222222222222222,
             "#7201a8"
            ],
            [
             0.3333333333333333,
             "#9c179e"
            ],
            [
             0.4444444444444444,
             "#bd3786"
            ],
            [
             0.5555555555555556,
             "#d8576b"
            ],
            [
             0.6666666666666666,
             "#ed7953"
            ],
            [
             0.7777777777777778,
             "#fb9f3a"
            ],
            [
             0.8888888888888888,
             "#fdca26"
            ],
            [
             1,
             "#f0f921"
            ]
           ]
          },
          "colorway": [
           "#636efa",
           "#EF553B",
           "#00cc96",
           "#ab63fa",
           "#FFA15A",
           "#19d3f3",
           "#FF6692",
           "#B6E880",
           "#FF97FF",
           "#FECB52"
          ],
          "font": {
           "color": "#2a3f5f"
          },
          "geo": {
           "bgcolor": "white",
           "lakecolor": "white",
           "landcolor": "#E5ECF6",
           "showlakes": true,
           "showland": true,
           "subunitcolor": "white"
          },
          "hoverlabel": {
           "align": "left"
          },
          "hovermode": "closest",
          "mapbox": {
           "style": "light"
          },
          "paper_bgcolor": "white",
          "plot_bgcolor": "#E5ECF6",
          "polar": {
           "angularaxis": {
            "gridcolor": "white",
            "linecolor": "white",
            "ticks": ""
           },
           "bgcolor": "#E5ECF6",
           "radialaxis": {
            "gridcolor": "white",
            "linecolor": "white",
            "ticks": ""
           }
          },
          "scene": {
           "xaxis": {
            "backgroundcolor": "#E5ECF6",
            "gridcolor": "white",
            "gridwidth": 2,
            "linecolor": "white",
            "showbackground": true,
            "ticks": "",
            "zerolinecolor": "white"
           },
           "yaxis": {
            "backgroundcolor": "#E5ECF6",
            "gridcolor": "white",
            "gridwidth": 2,
            "linecolor": "white",
            "showbackground": true,
            "ticks": "",
            "zerolinecolor": "white"
           },
           "zaxis": {
            "backgroundcolor": "#E5ECF6",
            "gridcolor": "white",
            "gridwidth": 2,
            "linecolor": "white",
            "showbackground": true,
            "ticks": "",
            "zerolinecolor": "white"
           }
          },
          "shapedefaults": {
           "line": {
            "color": "#2a3f5f"
           }
          },
          "ternary": {
           "aaxis": {
            "gridcolor": "white",
            "linecolor": "white",
            "ticks": ""
           },
           "baxis": {
            "gridcolor": "white",
            "linecolor": "white",
            "ticks": ""
           },
           "bgcolor": "#E5ECF6",
           "caxis": {
            "gridcolor": "white",
            "linecolor": "white",
            "ticks": ""
           }
          },
          "title": {
           "x": 0.05
          },
          "xaxis": {
           "automargin": true,
           "gridcolor": "white",
           "linecolor": "white",
           "ticks": "",
           "title": {
            "standoff": 15
           },
           "zerolinecolor": "white",
           "zerolinewidth": 2
          },
          "yaxis": {
           "automargin": true,
           "gridcolor": "white",
           "linecolor": "white",
           "ticks": "",
           "title": {
            "standoff": 15
           },
           "zerolinecolor": "white",
           "zerolinewidth": 2
          }
         }
        },
        "title": {
         "font": {
          "color": "#2c3e50",
          "size": 20
         },
         "text": "Interactive Knowledge Network: My Reading Journey Across Three Domains",
         "x": 0.5
        },
        "xaxis": {
         "showgrid": false,
         "showticklabels": false,
         "zeroline": false
        },
        "yaxis": {
         "showgrid": false,
         "showticklabels": false,
         "zeroline": false
        }
       }
      }
     },
     "metadata": {},
     "output_type": "display_data"
    },
    {
     "name": "stdout",
     "output_type": "stream",
     "text": [
      "✅ Interactive network created! Hover over nodes to see paper details.\n"
     ]
    }
   ],
   "source": [
    "# Create Interactive Network Visualization\n",
    "def create_interactive_network(G, df_papers):\n",
    "    \"\"\"Create an interactive network visualization using Plotly\"\"\"\n",
    "    \n",
    "    # Calculate layout positions\n",
    "    pos = nx.spring_layout(G, k=3, iterations=50, seed=42)\n",
    "    \n",
    "    # Prepare node traces\n",
    "    node_traces = {}\n",
    "    \n",
    "    for domain in ['GeoAI', 'GeoPersonality', 'IssuesGeo']:\n",
    "        domain_papers = df_papers[df_papers['domain'] == domain]\n",
    "        node_traces[domain] = {\n",
    "            'x': [],\n",
    "            'y': [],\n",
    "            'text': [],\n",
    "            'customdata': [],\n",
    "            'hovertemplate': []\n",
    "        }\n",
    "        \n",
    "        for _, paper in domain_papers.iterrows():\n",
    "            if paper['id'] in pos:\n",
    "                x, y = pos[paper['id']]\n",
    "                node_traces[domain]['x'].append(x)\n",
    "                node_traces[domain]['y'].append(y)\n",
    "                \n",
    "                # Create hover text\n",
    "                hover_text = f\"<b>{paper['title']}</b><br>\"\n",
    "                hover_text += f\"Author: {paper['author']}<br>\"\n",
    "                hover_text += f\"Year: {paper['year']}<br>\"\n",
    "                hover_text += f\"Venue: {paper['venue']}<br>\"\n",
    "                hover_text += f\"Domain: {paper['domain']}\"\n",
    "                \n",
    "                node_traces[domain]['text'].append(paper['title'][:50] + \"...\")\n",
    "                node_traces[domain]['customdata'].append({\n",
    "                    'title': paper['title'],\n",
    "                    'author': paper['author'],\n",
    "                    'year': paper['year'],\n",
    "                    'venue': paper['venue'],\n",
    "                    'citation': paper['full_citation'],\n",
    "                    'url': paper['url']\n",
    "                })\n",
    "                node_traces[domain]['hovertemplate'].append(hover_text)\n",
    "    \n",
    "    # Create edge traces\n",
    "    edge_x = []\n",
    "    edge_y = []\n",
    "    \n",
    "    for edge in G.edges():\n",
    "        if edge[0] in pos and edge[1] in pos:\n",
    "            x0, y0 = pos[edge[0]]\n",
    "            x1, y1 = pos[edge[1]]\n",
    "            edge_x.extend([x0, x1, None])\n",
    "            edge_y.extend([y0, y1, None])\n",
    "    \n",
    "    # Create the plotly figure\n",
    "    fig = go.Figure()\n",
    "    \n",
    "    # Add edges\n",
    "    fig.add_trace(go.Scatter(\n",
    "        x=edge_x, y=edge_y,\n",
    "        line=dict(width=0.5, color='rgba(125,125,125,0.3)'),\n",
    "        hoverinfo='none',\n",
    "        mode='lines',\n",
    "        name='Connections'\n",
    "    ))\n",
    "    \n",
    "    # Add nodes for each domain\n",
    "    colors = ['#007cba', '#4CAF50', '#FF9800']\n",
    "    domains = ['GeoAI', 'GeoPersonality', 'IssuesGeo']\n",
    "    \n",
    "    for i, domain in enumerate(domains):\n",
    "        if node_traces[domain]['x']:  # Only add if there are papers\n",
    "            fig.add_trace(go.Scatter(\n",
    "                x=node_traces[domain]['x'],\n",
    "                y=node_traces[domain]['y'],\n",
    "                mode='markers+text',\n",
    "                marker=dict(\n",
    "                    size=15,\n",
    "                    color=colors[i],\n",
    "                    opacity=0.8,\n",
    "                    line=dict(width=2, color='white')\n",
    "                ),\n",
    "                text=node_traces[domain]['text'],\n",
    "                textposition=\"middle center\",\n",
    "                textfont=dict(size=8, color='white'),\n",
    "                customdata=node_traces[domain]['customdata'],\n",
    "                hovertemplate='<b>%{customdata.title}</b><br>' +\n",
    "                             'Author: %{customdata.author}<br>' +\n",
    "                             'Year: %{customdata.year}<br>' +\n",
    "                             'Venue: %{customdata.venue}<br>' +\n",
    "                             '<extra></extra>',\n",
    "                name=f'{domain} ({len(node_traces[domain][\"x\"])} papers)',\n",
    "                showlegend=True\n",
    "            ))\n",
    "    \n",
    "    # Update layout\n",
    "    fig.update_layout(\n",
    "        title=dict(\n",
    "            text=\"Interactive Knowledge Network: My Reading Journey Across Three Domains\",\n",
    "            x=0.5,\n",
    "            font=dict(size=20, color='#2c3e50')\n",
    "        ),\n",
    "        showlegend=True,\n",
    "        hovermode='closest',\n",
    "        margin=dict(b=20,l=5,r=5,t=40),\n",
    "        annotations=[ dict(\n",
    "            text=\"Click and drag to explore • Hover for details • Each color represents a research domain\",\n",
    "            showarrow=False,\n",
    "            xref=\"paper\", yref=\"paper\",\n",
    "            x=0.005, y=-0.002,\n",
    "            xanchor='left', yanchor='bottom',\n",
    "            font=dict(color='#7f8c8d', size=12)\n",
    "        )],\n",
    "        xaxis=dict(showgrid=False, zeroline=False, showticklabels=False),\n",
    "        yaxis=dict(showgrid=False, zeroline=False, showticklabels=False),\n",
    "        plot_bgcolor='rgba(248,249,250,0.8)',\n",
    "        height=700\n",
    "    )\n",
    "    \n",
    "    return fig\n",
    "\n",
    "# Create and display the interactive network\n",
    "print(\"🎨 Creating interactive network visualization...\")\n",
    "fig_network = create_interactive_network(network_graph, df_papers)\n",
    "fig_network.show()\n",
    "\n",
    "print(\"✅ Interactive network created! Hover over nodes to see paper details.\")"
   ]
  },
  {
   "cell_type": "code",
   "execution_count": 6,
   "id": "dd9490b5",
   "metadata": {},
   "outputs": [
    {
     "name": "stdout",
     "output_type": "stream",
     "text": [
      "📅 Creating reading timeline...\n"
     ]
    },
    {
     "data": {
      "application/vnd.plotly.v1+json": {
       "config": {
        "plotlyServerURL": "https://plot.ly"
       },
       "data": [
        {
         "customdata": [
          [
           "Brown, C. F., Kazmierski, M. R., Pasquarella, V. J., Rucklidge, W. J., Samsikova, M., Zhang, C., She...",
           "Brown, C.",
           "AlphaEarth Foundations: An embedding field model for accurate and efficient global mapping from sparse label data"
          ],
          [
           "G",
           "Goodchild, M.",
           "Spatially Integrated Social Science"
          ],
          [
           "(2021)",
           "Goodchild, M.",
           "Proceedings of the National Academy of Sciences"
          ],
          [
           "(2019)",
           "Hu, Y.",
           "SIGSPATIAL Special"
          ],
          [
           "(2020)",
           "Janowicz, K.",
           "International Journal of Geographical Information Science"
          ],
          [
           "(2019)",
           "Jean, N.",
           "Proceedings of the AAAI Conference on Artificial Intelligence"
          ]
         ],
         "hovertemplate": "domain=%{y}<br>year=%{x}<br>size=%{marker.size}<br>title=%{customdata[0]}<br>author=%{customdata[1]}<br>venue=%{customdata[2]}<extra></extra>",
         "legendgroup": "GeoAI",
         "marker": {
          "color": "#007cba",
          "line": {
           "color": "white",
           "width": 2
          },
          "opacity": 0.8,
          "size": {
           "bdata": "FBQUFBQU",
           "dtype": "i1"
          },
          "sizemode": "area",
          "sizeref": 0.05,
          "symbol": "circle"
         },
         "mode": "markers",
         "name": "GeoAI",
         "orientation": "h",
         "showlegend": true,
         "type": "scatter",
         "x": {
          "bdata": "AAAAAACkn0AAAAAAAFCfQAAAAAAAlJ9AAAAAAACMn0AAAAAAAJCfQAAAAAAAjJ9A",
          "dtype": "f8"
         },
         "xaxis": "x",
         "y": [
          "GeoAI",
          "GeoAI",
          "GeoAI",
          "GeoAI",
          "GeoAI",
          "GeoAI"
         ],
         "yaxis": "y"
        },
        {
         "customdata": [
          [
           "(2021)",
           "Biljecki, F.",
           "Landscape and Urban Planning"
          ],
          [
           "J",
           "Ebert, T.",
           "Perspectives on Psychological Science"
          ],
          [
           "J",
           "Götz, F.",
           "American Psychologist"
          ],
          [
           "J",
           "Götz, F.",
           "Perspectives on Psychological Science"
          ],
          [
           "J",
           "Götz, F.",
           "Nature Human Behaviour"
          ],
          [
           "E",
           "Götz, F.",
           "Nature Human Behaviour"
          ],
          [
           "(2025)",
           "Ito, K.",
           "Computers, Environment and Urban Systems"
          ],
          [
           "C",
           "Jiang, S.",
           "Computers, Environment and Urban Systems"
          ],
          [
           "J",
           "Jokela, M.",
           "Proceedings of the National Academy of Sciences"
          ],
          [
           "(2025)",
           "Liu, L.",
           "Computers, Environment and Urban Systems"
          ],
          [
           "(2019)",
           "Liu, X.",
           "Computers, Environment and Urban Systems"
          ],
          [
           "D",
           "Mewes, L.",
           "Economic Geography"
          ],
          [
           "M",
           "Militaru, I.",
           "Journal of Personality"
          ],
          [
           "D",
           "Obschonka, M.",
           "European Journal of Personality"
          ],
          [
           "D",
           "Obschonka, M.",
           "Journal of Personality and Social Psychology"
          ],
          [
           "(2014)",
           "Pei, T.",
           "International Journal of Geographical Information Science"
          ],
          [
           "C",
           "Peters, H.",
           "Journal of Personality and Social Psychology"
          ],
          [
           "D",
           "Rentfrow, P.",
           "Handbook of personality: Theory and research, 4th ed"
          ],
          [
           "(2013)",
           "Rentfrow, P.",
           "Journal of Personality and Social Psychology"
          ],
          [
           "(2008)",
           "Rentfrow, P.",
           "Perspectives on Psychological Science: A Journal of the Association for Psychological Science"
          ],
          [
           "4114397)",
           "Stuetzer, M.",
           "A Golden Opportunity: The Gold Rush, Entrepreneurship and Culture"
          ],
          [
           "(2024)",
           "Tolan, J.",
           "Remote Sensing of Environment"
          ],
          [
           "(2017)",
           "Wei, W.",
           "Nature Human Behaviour"
          ],
          [
           "(2024)",
           "Xu, W.",
           "Scientific Data"
          ],
          [
           "(2021)",
           "Zhang, F.",
           "Landscape and Urban Planning"
          ]
         ],
         "hovertemplate": "domain=%{y}<br>year=%{x}<br>size=%{marker.size}<br>title=%{customdata[0]}<br>author=%{customdata[1]}<br>venue=%{customdata[2]}<extra></extra>",
         "legendgroup": "GeoPersonality",
         "marker": {
          "color": "#4CAF50",
          "line": {
           "color": "white",
           "width": 2
          },
          "opacity": 0.8,
          "size": {
           "bdata": "FBQUFBQUFBQUFBQUFBQUFBQUFBQUFBQUFA==",
           "dtype": "i1"
          },
          "sizemode": "area",
          "sizeref": 0.05,
          "symbol": "circle"
         },
         "mode": "markers",
         "name": "GeoPersonality",
         "orientation": "h",
         "showlegend": true,
         "type": "scatter",
         "x": {
          "bdata": "AAAAAACUn0AAAAAAAJifQAAAAAAAlJ9AAAAAAACYn0AAAAAAAKCfQAAAAAAApJ9AAAAAAACkn0AAAAAAAHyfQAAAAAAAfJ9AAAAAAACkn0AAAAAAAIyfQAAAAAAAmJ9AAAAAAACgn0AAAAAAAISfQAAAAAAAiJ9AAAAAAAB4n0AAAAAAAJyfQAAAAAAAlJ9AAAAAAAB0n0AAAAAAAGCfQAAAAAAAmJ9AAAAAAACgn0AAAAAAAISfQAAAAAAAoJ9AAAAAAACUn0A=",
          "dtype": "f8"
         },
         "xaxis": "x",
         "y": [
          "GeoPersonality",
          "GeoPersonality",
          "GeoPersonality",
          "GeoPersonality",
          "GeoPersonality",
          "GeoPersonality",
          "GeoPersonality",
          "GeoPersonality",
          "GeoPersonality",
          "GeoPersonality",
          "GeoPersonality",
          "GeoPersonality",
          "GeoPersonality",
          "GeoPersonality",
          "GeoPersonality",
          "GeoPersonality",
          "GeoPersonality",
          "GeoPersonality",
          "GeoPersonality",
          "GeoPersonality",
          "GeoPersonality",
          "GeoPersonality",
          "GeoPersonality",
          "GeoPersonality",
          "GeoPersonality"
         ],
         "yaxis": "y"
        },
        {
         "customdata": [
          [
           "(2021)",
           "Cox, K.",
           "Belgeo. Revue Belge de Géographie"
          ],
          [
           "L",
           "Fluri, J.",
           "Progress in Human Geography"
          ],
          [
           "F",
           "Goodchild, M.",
           "Geomorphology"
          ],
          [
           "(2014)",
           "Kobayashi, A.",
           "Annals of the Association of American Geographers"
          ],
          [
           "(2025)",
           "Lin, Y.",
           "GeoAI and Human Geography: The Dawn of a New Spatial Intelligence Era"
          ],
          [
           "(2019)",
           "Mansfield, B.",
           "Human Geography"
          ]
         ],
         "hovertemplate": "domain=%{y}<br>year=%{x}<br>size=%{marker.size}<br>title=%{customdata[0]}<br>author=%{customdata[1]}<br>venue=%{customdata[2]}<extra></extra>",
         "legendgroup": "IssuesGeo",
         "marker": {
          "color": "#FF9800",
          "line": {
           "color": "white",
           "width": 2
          },
          "opacity": 0.8,
          "size": {
           "bdata": "FBQUFBQU",
           "dtype": "i1"
          },
          "sizemode": "area",
          "sizeref": 0.05,
          "symbol": "circle"
         },
         "mode": "markers",
         "name": "IssuesGeo",
         "orientation": "h",
         "showlegend": true,
         "type": "scatter",
         "x": {
          "bdata": "AAAAAACUn0AAAAAAAJSfQAAAAAAAbJ9AAAAAAAB4n0AAAAAAAKSfQAAAAAAAjJ9A",
          "dtype": "f8"
         },
         "xaxis": "x",
         "y": [
          "IssuesGeo",
          "IssuesGeo",
          "IssuesGeo",
          "IssuesGeo",
          "IssuesGeo",
          "IssuesGeo"
         ],
         "yaxis": "y"
        }
       ],
       "layout": {
        "height": 400,
        "legend": {
         "itemsizing": "constant",
         "title": {
          "text": "domain"
         },
         "tracegroupgap": 0
        },
        "plot_bgcolor": "rgba(248,249,250,0.8)",
        "template": {
         "data": {
          "bar": [
           {
            "error_x": {
             "color": "#2a3f5f"
            },
            "error_y": {
             "color": "#2a3f5f"
            },
            "marker": {
             "line": {
              "color": "#E5ECF6",
              "width": 0.5
             },
             "pattern": {
              "fillmode": "overlay",
              "size": 10,
              "solidity": 0.2
             }
            },
            "type": "bar"
           }
          ],
          "barpolar": [
           {
            "marker": {
             "line": {
              "color": "#E5ECF6",
              "width": 0.5
             },
             "pattern": {
              "fillmode": "overlay",
              "size": 10,
              "solidity": 0.2
             }
            },
            "type": "barpolar"
           }
          ],
          "carpet": [
           {
            "aaxis": {
             "endlinecolor": "#2a3f5f",
             "gridcolor": "white",
             "linecolor": "white",
             "minorgridcolor": "white",
             "startlinecolor": "#2a3f5f"
            },
            "baxis": {
             "endlinecolor": "#2a3f5f",
             "gridcolor": "white",
             "linecolor": "white",
             "minorgridcolor": "white",
             "startlinecolor": "#2a3f5f"
            },
            "type": "carpet"
           }
          ],
          "choropleth": [
           {
            "colorbar": {
             "outlinewidth": 0,
             "ticks": ""
            },
            "type": "choropleth"
           }
          ],
          "contour": [
           {
            "colorbar": {
             "outlinewidth": 0,
             "ticks": ""
            },
            "colorscale": [
             [
              0,
              "#0d0887"
             ],
             [
              0.1111111111111111,
              "#46039f"
             ],
             [
              0.2222222222222222,
              "#7201a8"
             ],
             [
              0.3333333333333333,
              "#9c179e"
             ],
             [
              0.4444444444444444,
              "#bd3786"
             ],
             [
              0.5555555555555556,
              "#d8576b"
             ],
             [
              0.6666666666666666,
              "#ed7953"
             ],
             [
              0.7777777777777778,
              "#fb9f3a"
             ],
             [
              0.8888888888888888,
              "#fdca26"
             ],
             [
              1,
              "#f0f921"
             ]
            ],
            "type": "contour"
           }
          ],
          "contourcarpet": [
           {
            "colorbar": {
             "outlinewidth": 0,
             "ticks": ""
            },
            "type": "contourcarpet"
           }
          ],
          "heatmap": [
           {
            "colorbar": {
             "outlinewidth": 0,
             "ticks": ""
            },
            "colorscale": [
             [
              0,
              "#0d0887"
             ],
             [
              0.1111111111111111,
              "#46039f"
             ],
             [
              0.2222222222222222,
              "#7201a8"
             ],
             [
              0.3333333333333333,
              "#9c179e"
             ],
             [
              0.4444444444444444,
              "#bd3786"
             ],
             [
              0.5555555555555556,
              "#d8576b"
             ],
             [
              0.6666666666666666,
              "#ed7953"
             ],
             [
              0.7777777777777778,
              "#fb9f3a"
             ],
             [
              0.8888888888888888,
              "#fdca26"
             ],
             [
              1,
              "#f0f921"
             ]
            ],
            "type": "heatmap"
           }
          ],
          "histogram": [
           {
            "marker": {
             "pattern": {
              "fillmode": "overlay",
              "size": 10,
              "solidity": 0.2
             }
            },
            "type": "histogram"
           }
          ],
          "histogram2d": [
           {
            "colorbar": {
             "outlinewidth": 0,
             "ticks": ""
            },
            "colorscale": [
             [
              0,
              "#0d0887"
             ],
             [
              0.1111111111111111,
              "#46039f"
             ],
             [
              0.2222222222222222,
              "#7201a8"
             ],
             [
              0.3333333333333333,
              "#9c179e"
             ],
             [
              0.4444444444444444,
              "#bd3786"
             ],
             [
              0.5555555555555556,
              "#d8576b"
             ],
             [
              0.6666666666666666,
              "#ed7953"
             ],
             [
              0.7777777777777778,
              "#fb9f3a"
             ],
             [
              0.8888888888888888,
              "#fdca26"
             ],
             [
              1,
              "#f0f921"
             ]
            ],
            "type": "histogram2d"
           }
          ],
          "histogram2dcontour": [
           {
            "colorbar": {
             "outlinewidth": 0,
             "ticks": ""
            },
            "colorscale": [
             [
              0,
              "#0d0887"
             ],
             [
              0.1111111111111111,
              "#46039f"
             ],
             [
              0.2222222222222222,
              "#7201a8"
             ],
             [
              0.3333333333333333,
              "#9c179e"
             ],
             [
              0.4444444444444444,
              "#bd3786"
             ],
             [
              0.5555555555555556,
              "#d8576b"
             ],
             [
              0.6666666666666666,
              "#ed7953"
             ],
             [
              0.7777777777777778,
              "#fb9f3a"
             ],
             [
              0.8888888888888888,
              "#fdca26"
             ],
             [
              1,
              "#f0f921"
             ]
            ],
            "type": "histogram2dcontour"
           }
          ],
          "mesh3d": [
           {
            "colorbar": {
             "outlinewidth": 0,
             "ticks": ""
            },
            "type": "mesh3d"
           }
          ],
          "parcoords": [
           {
            "line": {
             "colorbar": {
              "outlinewidth": 0,
              "ticks": ""
             }
            },
            "type": "parcoords"
           }
          ],
          "pie": [
           {
            "automargin": true,
            "type": "pie"
           }
          ],
          "scatter": [
           {
            "fillpattern": {
             "fillmode": "overlay",
             "size": 10,
             "solidity": 0.2
            },
            "type": "scatter"
           }
          ],
          "scatter3d": [
           {
            "line": {
             "colorbar": {
              "outlinewidth": 0,
              "ticks": ""
             }
            },
            "marker": {
             "colorbar": {
              "outlinewidth": 0,
              "ticks": ""
             }
            },
            "type": "scatter3d"
           }
          ],
          "scattercarpet": [
           {
            "marker": {
             "colorbar": {
              "outlinewidth": 0,
              "ticks": ""
             }
            },
            "type": "scattercarpet"
           }
          ],
          "scattergeo": [
           {
            "marker": {
             "colorbar": {
              "outlinewidth": 0,
              "ticks": ""
             }
            },
            "type": "scattergeo"
           }
          ],
          "scattergl": [
           {
            "marker": {
             "colorbar": {
              "outlinewidth": 0,
              "ticks": ""
             }
            },
            "type": "scattergl"
           }
          ],
          "scattermap": [
           {
            "marker": {
             "colorbar": {
              "outlinewidth": 0,
              "ticks": ""
             }
            },
            "type": "scattermap"
           }
          ],
          "scattermapbox": [
           {
            "marker": {
             "colorbar": {
              "outlinewidth": 0,
              "ticks": ""
             }
            },
            "type": "scattermapbox"
           }
          ],
          "scatterpolar": [
           {
            "marker": {
             "colorbar": {
              "outlinewidth": 0,
              "ticks": ""
             }
            },
            "type": "scatterpolar"
           }
          ],
          "scatterpolargl": [
           {
            "marker": {
             "colorbar": {
              "outlinewidth": 0,
              "ticks": ""
             }
            },
            "type": "scatterpolargl"
           }
          ],
          "scatterternary": [
           {
            "marker": {
             "colorbar": {
              "outlinewidth": 0,
              "ticks": ""
             }
            },
            "type": "scatterternary"
           }
          ],
          "surface": [
           {
            "colorbar": {
             "outlinewidth": 0,
             "ticks": ""
            },
            "colorscale": [
             [
              0,
              "#0d0887"
             ],
             [
              0.1111111111111111,
              "#46039f"
             ],
             [
              0.2222222222222222,
              "#7201a8"
             ],
             [
              0.3333333333333333,
              "#9c179e"
             ],
             [
              0.4444444444444444,
              "#bd3786"
             ],
             [
              0.5555555555555556,
              "#d8576b"
             ],
             [
              0.6666666666666666,
              "#ed7953"
             ],
             [
              0.7777777777777778,
              "#fb9f3a"
             ],
             [
              0.8888888888888888,
              "#fdca26"
             ],
             [
              1,
              "#f0f921"
             ]
            ],
            "type": "surface"
           }
          ],
          "table": [
           {
            "cells": {
             "fill": {
              "color": "#EBF0F8"
             },
             "line": {
              "color": "white"
             }
            },
            "header": {
             "fill": {
              "color": "#C8D4E3"
             },
             "line": {
              "color": "white"
             }
            },
            "type": "table"
           }
          ]
         },
         "layout": {
          "annotationdefaults": {
           "arrowcolor": "#2a3f5f",
           "arrowhead": 0,
           "arrowwidth": 1
          },
          "autotypenumbers": "strict",
          "coloraxis": {
           "colorbar": {
            "outlinewidth": 0,
            "ticks": ""
           }
          },
          "colorscale": {
           "diverging": [
            [
             0,
             "#8e0152"
            ],
            [
             0.1,
             "#c51b7d"
            ],
            [
             0.2,
             "#de77ae"
            ],
            [
             0.3,
             "#f1b6da"
            ],
            [
             0.4,
             "#fde0ef"
            ],
            [
             0.5,
             "#f7f7f7"
            ],
            [
             0.6,
             "#e6f5d0"
            ],
            [
             0.7,
             "#b8e186"
            ],
            [
             0.8,
             "#7fbc41"
            ],
            [
             0.9,
             "#4d9221"
            ],
            [
             1,
             "#276419"
            ]
           ],
           "sequential": [
            [
             0,
             "#0d0887"
            ],
            [
             0.1111111111111111,
             "#46039f"
            ],
            [
             0.2222222222222222,
             "#7201a8"
            ],
            [
             0.3333333333333333,
             "#9c179e"
            ],
            [
             0.4444444444444444,
             "#bd3786"
            ],
            [
             0.5555555555555556,
             "#d8576b"
            ],
            [
             0.6666666666666666,
             "#ed7953"
            ],
            [
             0.7777777777777778,
             "#fb9f3a"
            ],
            [
             0.8888888888888888,
             "#fdca26"
            ],
            [
             1,
             "#f0f921"
            ]
           ],
           "sequentialminus": [
            [
             0,
             "#0d0887"
            ],
            [
             0.1111111111111111,
             "#46039f"
            ],
            [
             0.2222222222222222,
             "#7201a8"
            ],
            [
             0.3333333333333333,
             "#9c179e"
            ],
            [
             0.4444444444444444,
             "#bd3786"
            ],
            [
             0.5555555555555556,
             "#d8576b"
            ],
            [
             0.6666666666666666,
             "#ed7953"
            ],
            [
             0.7777777777777778,
             "#fb9f3a"
            ],
            [
             0.8888888888888888,
             "#fdca26"
            ],
            [
             1,
             "#f0f921"
            ]
           ]
          },
          "colorway": [
           "#636efa",
           "#EF553B",
           "#00cc96",
           "#ab63fa",
           "#FFA15A",
           "#19d3f3",
           "#FF6692",
           "#B6E880",
           "#FF97FF",
           "#FECB52"
          ],
          "font": {
           "color": "#2a3f5f"
          },
          "geo": {
           "bgcolor": "white",
           "lakecolor": "white",
           "landcolor": "#E5ECF6",
           "showlakes": true,
           "showland": true,
           "subunitcolor": "white"
          },
          "hoverlabel": {
           "align": "left"
          },
          "hovermode": "closest",
          "mapbox": {
           "style": "light"
          },
          "paper_bgcolor": "white",
          "plot_bgcolor": "#E5ECF6",
          "polar": {
           "angularaxis": {
            "gridcolor": "white",
            "linecolor": "white",
            "ticks": ""
           },
           "bgcolor": "#E5ECF6",
           "radialaxis": {
            "gridcolor": "white",
            "linecolor": "white",
            "ticks": ""
           }
          },
          "scene": {
           "xaxis": {
            "backgroundcolor": "#E5ECF6",
            "gridcolor": "white",
            "gridwidth": 2,
            "linecolor": "white",
            "showbackground": true,
            "ticks": "",
            "zerolinecolor": "white"
           },
           "yaxis": {
            "backgroundcolor": "#E5ECF6",
            "gridcolor": "white",
            "gridwidth": 2,
            "linecolor": "white",
            "showbackground": true,
            "ticks": "",
            "zerolinecolor": "white"
           },
           "zaxis": {
            "backgroundcolor": "#E5ECF6",
            "gridcolor": "white",
            "gridwidth": 2,
            "linecolor": "white",
            "showbackground": true,
            "ticks": "",
            "zerolinecolor": "white"
           }
          },
          "shapedefaults": {
           "line": {
            "color": "#2a3f5f"
           }
          },
          "ternary": {
           "aaxis": {
            "gridcolor": "white",
            "linecolor": "white",
            "ticks": ""
           },
           "baxis": {
            "gridcolor": "white",
            "linecolor": "white",
            "ticks": ""
           },
           "bgcolor": "#E5ECF6",
           "caxis": {
            "gridcolor": "white",
            "linecolor": "white",
            "ticks": ""
           }
          },
          "title": {
           "x": 0.05
          },
          "xaxis": {
           "automargin": true,
           "gridcolor": "white",
           "linecolor": "white",
           "ticks": "",
           "title": {
            "standoff": 15
           },
           "zerolinecolor": "white",
           "zerolinewidth": 2
          },
          "yaxis": {
           "automargin": true,
           "gridcolor": "white",
           "linecolor": "white",
           "ticks": "",
           "title": {
            "standoff": 15
           },
           "zerolinecolor": "white",
           "zerolinewidth": 2
          }
         }
        },
        "title": {
         "text": "Reading Timeline: Evolution of My Academic Interests"
        },
        "xaxis": {
         "anchor": "y",
         "domain": [
          0,
          1
         ],
         "title": {
          "text": "Publication Year"
         }
        },
        "yaxis": {
         "anchor": "x",
         "categoryarray": [
          "IssuesGeo",
          "GeoPersonality",
          "GeoAI"
         ],
         "categoryorder": "array",
         "domain": [
          0,
          1
         ],
         "title": {
          "text": "Research Domain"
         }
        }
       }
      }
     },
     "metadata": {},
     "output_type": "display_data"
    },
    {
     "name": "stdout",
     "output_type": "stream",
     "text": [
      "📊 Creating domain analysis...\n",
      "\n",
      "🔍 Reading Summary by Domain:\n"
     ]
    },
    {
     "data": {
      "text/html": [
       "<div>\n",
       "<style scoped>\n",
       "    .dataframe tbody tr th:only-of-type {\n",
       "        vertical-align: middle;\n",
       "    }\n",
       "\n",
       "    .dataframe tbody tr th {\n",
       "        vertical-align: top;\n",
       "    }\n",
       "\n",
       "    .dataframe thead th {\n",
       "        text-align: right;\n",
       "    }\n",
       "</style>\n",
       "<table border=\"1\" class=\"dataframe\">\n",
       "  <thead>\n",
       "    <tr style=\"text-align: right;\">\n",
       "      <th></th>\n",
       "      <th>Domain</th>\n",
       "      <th>Paper Count</th>\n",
       "      <th>Year Range</th>\n",
       "      <th>Key Authors</th>\n",
       "      <th>Recent Papers</th>\n",
       "    </tr>\n",
       "  </thead>\n",
       "  <tbody>\n",
       "    <tr>\n",
       "      <th>0</th>\n",
       "      <td>GeoAI</td>\n",
       "      <td>6</td>\n",
       "      <td>2004 - 2025</td>\n",
       "      <td>Goodchild, Brown, Hu</td>\n",
       "      <td>3</td>\n",
       "    </tr>\n",
       "    <tr>\n",
       "      <th>1</th>\n",
       "      <td>GeoPersonality</td>\n",
       "      <td>29</td>\n",
       "      <td>2008 - 2025</td>\n",
       "      <td>Götz, Rentfrow, Obschonka</td>\n",
       "      <td>16</td>\n",
       "    </tr>\n",
       "    <tr>\n",
       "      <th>2</th>\n",
       "      <td>IssuesGeo</td>\n",
       "      <td>7</td>\n",
       "      <td>2011 - 2025</td>\n",
       "      <td>Cox, Fluri, GeostatsPy_bootstrap.</td>\n",
       "      <td>3</td>\n",
       "    </tr>\n",
       "  </tbody>\n",
       "</table>\n",
       "</div>"
      ],
      "text/plain": [
       "           Domain  Paper Count   Year Range  \\\n",
       "0           GeoAI            6  2004 - 2025   \n",
       "1  GeoPersonality           29  2008 - 2025   \n",
       "2       IssuesGeo            7  2011 - 2025   \n",
       "\n",
       "                         Key Authors  Recent Papers  \n",
       "0               Goodchild, Brown, Hu              3  \n",
       "1          Götz, Rentfrow, Obschonka             16  \n",
       "2  Cox, Fluri, GeostatsPy_bootstrap.              3  "
      ]
     },
     "metadata": {},
     "output_type": "display_data"
    }
   ],
   "source": [
    "# Create Reading Timeline and Domain Analysis\n",
    "def create_timeline_analysis(df):\n",
    "    \"\"\"Create temporal analysis of reading patterns\"\"\"\n",
    "    \n",
    "    # Filter out papers without years\n",
    "    df_temporal = df.dropna(subset=['year'])\n",
    "    \n",
    "    # Create timeline visualization\n",
    "    fig_timeline = px.scatter(\n",
    "        df_temporal, \n",
    "        x='year', \n",
    "        y='domain',\n",
    "        color='domain',\n",
    "        size=[20]*len(df_temporal),  # Constant size\n",
    "        hover_data=['title', 'author', 'venue'],\n",
    "        color_discrete_map={\n",
    "            'GeoAI': '#007cba',\n",
    "            'GeoPersonality': '#4CAF50', \n",
    "            'IssuesGeo': '#FF9800'\n",
    "        },\n",
    "        title=\"Reading Timeline: Evolution of My Academic Interests\"\n",
    "    )\n",
    "    \n",
    "    fig_timeline.update_traces(\n",
    "        marker=dict(\n",
    "            opacity=0.8,\n",
    "            line=dict(width=2, color='white')\n",
    "        )\n",
    "    )\n",
    "    \n",
    "    fig_timeline.update_layout(\n",
    "        height=400,\n",
    "        xaxis_title=\"Publication Year\",\n",
    "        yaxis_title=\"Research Domain\",\n",
    "        plot_bgcolor='rgba(248,249,250,0.8)'\n",
    "    )\n",
    "    \n",
    "    return fig_timeline\n",
    "\n",
    "def create_domain_summary(df):\n",
    "    \"\"\"Create summary statistics for each domain\"\"\"\n",
    "    \n",
    "    summary_data = []\n",
    "    for domain in df['domain'].unique():\n",
    "        domain_papers = df[df['domain'] == domain]\n",
    "        \n",
    "        summary_data.append({\n",
    "            'Domain': domain,\n",
    "            'Paper Count': len(domain_papers),\n",
    "            'Year Range': f\"{domain_papers['year'].min():.0f} - {domain_papers['year'].max():.0f}\" if domain_papers['year'].notna().any() else \"Various\",\n",
    "            'Key Authors': ', '.join(domain_papers['author'].str.split(',').str[0].value_counts().head(3).index.tolist()),\n",
    "            'Recent Papers': len(domain_papers[domain_papers['year'] >= 2020]) if domain_papers['year'].notna().any() else 0\n",
    "        })\n",
    "    \n",
    "    return pd.DataFrame(summary_data)\n",
    "\n",
    "# Create timeline visualization\n",
    "print(\"📅 Creating reading timeline...\")\n",
    "fig_timeline = create_timeline_analysis(df_papers)\n",
    "fig_timeline.show()\n",
    "\n",
    "# Create domain summary\n",
    "print(\"📊 Creating domain analysis...\")\n",
    "domain_summary = create_domain_summary(df_papers)\n",
    "print(\"\\n🔍 Reading Summary by Domain:\")\n",
    "display(domain_summary)"
   ]
  },
  {
   "cell_type": "code",
   "execution_count": 7,
   "id": "47fd1ec6",
   "metadata": {},
   "outputs": [
    {
     "name": "stdout",
     "output_type": "stream",
     "text": [
      "🔍 Creating interactive paper explorer...\n"
     ]
    },
    {
     "data": {
      "application/vnd.jupyter.widget-view+json": {
       "model_id": "efcc7bece80b419d90b94ae93e0a52cc",
       "version_major": 2,
       "version_minor": 0
      },
      "text/plain": [
       "VBox(children=(HTML(value='<h3>🔍 Interactive Paper Explorer</h3>'), HBox(children=(Dropdown(description='Domai…"
      ]
     },
     "metadata": {},
     "output_type": "display_data"
    }
   ],
   "source": [
    "# Create Clickable Paper Explorer\n",
    "def create_paper_explorer(df):\n",
    "    \"\"\"Create an interactive paper explorer with clickable details\"\"\"\n",
    "    \n",
    "    if not WIDGETS_AVAILABLE:\n",
    "        print(\"📝 Interactive widgets not available. Displaying static paper list instead.\")\n",
    "        return df[['title', 'author', 'year', 'domain']].sort_values('year', ascending=False)\n",
    "    \n",
    "    # Create widgets for paper exploration\n",
    "    domain_dropdown = widgets.Dropdown(\n",
    "        options=['All'] + list(df['domain'].unique()),\n",
    "        value='All',\n",
    "        description='Domain:'\n",
    "    )\n",
    "    \n",
    "    year_slider = widgets.IntRangeSlider(\n",
    "        value=[df['year'].min(), df['year'].max()],\n",
    "        min=int(df['year'].min()),\n",
    "        max=int(df['year'].max()),\n",
    "        step=1,\n",
    "        description='Years:',\n",
    "        disabled=False,\n",
    "        continuous_update=False,\n",
    "        orientation='horizontal',\n",
    "        readout=True,\n",
    "        readout_format='d'\n",
    "    )\n",
    "    \n",
    "    search_box = widgets.Text(\n",
    "        value='',\n",
    "        placeholder='Search titles or authors...',\n",
    "        description='Search:',\n",
    "        disabled=False\n",
    "    )\n",
    "    \n",
    "    output = widgets.Output()\n",
    "    \n",
    "    def update_display(*args):\n",
    "        with output:\n",
    "            output.clear_output()\n",
    "            \n",
    "            # Filter data based on widgets\n",
    "            filtered_df = df.copy()\n",
    "            \n",
    "            if domain_dropdown.value != 'All':\n",
    "                filtered_df = filtered_df[filtered_df['domain'] == domain_dropdown.value]\n",
    "            \n",
    "            if pd.notna(year_slider.value[0]) and pd.notna(year_slider.value[1]):\n",
    "                filtered_df = filtered_df[\n",
    "                    (filtered_df['year'] >= year_slider.value[0]) & \n",
    "                    (filtered_df['year'] <= year_slider.value[1])\n",
    "                ]\n",
    "            \n",
    "            if search_box.value:\n",
    "                search_term = search_box.value.lower()\n",
    "                filtered_df = filtered_df[\n",
    "                    filtered_df['title'].str.lower().str.contains(search_term, na=False) |\n",
    "                    filtered_df['author'].str.lower().str.contains(search_term, na=False)\n",
    "                ]\n",
    "            \n",
    "            # Display results\n",
    "            print(f\"📚 Found {len(filtered_df)} papers matching your criteria:\\n\")\n",
    "            \n",
    "            for _, paper in filtered_df.iterrows():\n",
    "                print(f\"🔸 **{paper['title']}**\")\n",
    "                print(f\"   👤 {paper['author']} ({paper['year']})\")\n",
    "                print(f\"   📖 {paper['venue']}\")\n",
    "                print(f\"   🏷️ Domain: {paper['domain']}\")\n",
    "                if paper['url']:\n",
    "                    print(f\"   🔗 [View Paper]({paper['url']})\")\n",
    "                print()\n",
    "    \n",
    "    # Set up widget interactions\n",
    "    domain_dropdown.observe(update_display, names='value')\n",
    "    year_slider.observe(update_display, names='value')\n",
    "    search_box.observe(update_display, names='value')\n",
    "    \n",
    "    # Initial display\n",
    "    update_display()\n",
    "    \n",
    "    return widgets.VBox([\n",
    "        widgets.HTML('<h3>🔍 Interactive Paper Explorer</h3>'),\n",
    "        widgets.HBox([domain_dropdown, search_box]),\n",
    "        year_slider,\n",
    "        output\n",
    "    ])\n",
    "\n",
    "print(\"🔍 Creating interactive paper explorer...\")\n",
    "explorer = create_paper_explorer(df_papers)\n",
    "\n",
    "if WIDGETS_AVAILABLE:\n",
    "    display(explorer)\n",
    "else:\n",
    "    display(explorer)"
   ]
  },
  {
   "cell_type": "markdown",
   "id": "89e06a09",
   "metadata": {},
   "source": [
    "## 🎯 Theoretical Framework Development\n",
    "\n",
    "### From Phenomenology to Digital Methods\n",
    "\n",
    "The interactive visualizations above demonstrate my theoretical journey from classical phenomenological approaches to contemporary digital methodologies:\n",
    "\n",
    "1. **🏛️ Foundational Spatial Theory** (Critical Issues in Geography)\n",
    "   - Understanding core geographical concepts and disciplinary challenges\n",
    "   - Engaging with questions of space, scale, and methodology in geographic research\n",
    "   - Critical perspectives on the discipline's development and future directions\n",
    "\n",
    "2. **🧠 Psychology-Geography Integration** (Geography & Personality Research)  \n",
    "   - Bridging spatial theory with psychological frameworks\n",
    "   - Investigating person-environment relationships across scales\n",
    "   - Understanding how place shapes personality and behavior patterns\n",
    "\n",
    "3. **🤖 Contemporary Applications** (GeoAI & Spatial Intelligence)\n",
    "   - Connecting theory to machine learning and artificial intelligence methods\n",
    "   - Applying computational approaches to spatial analysis\n",
    "   - Developing new methodologies for large-scale geographic research\n",
    "\n",
    "### 📈 Research Evolution Phases\n",
    "\n",
    "**Phase 1: Theoretical Grounding** 🌱\n",
    "- Establishing understanding of core geographic concepts\n",
    "- Exploring critical perspectives on spatial analysis and methodology\n",
    "- Understanding disciplinary foundations and ongoing debates\n",
    "\n",
    "**Phase 2: Interdisciplinary Integration** 🔗\n",
    "- Connecting spatial theory to environmental psychology\n",
    "- Investigating regional variation in personality and behavior\n",
    "- Exploring how built environments influence human outcomes\n",
    "\n",
    "**Phase 3: Methodological Innovation** ⚡\n",
    "- Applying machine learning to spatial behavior patterns\n",
    "- Using GeoAI for large-scale environmental psychology research\n",
    "- Developing new approaches to built-environment-personality studies\n",
    "\n",
    "### 🎓 Mini-Geo Journey Reflection\n",
    "\n",
    "This interactive exploration accomplishes several academic goals:\n",
    "\n",
    "- **📚 Theoretical Engagement**: Demonstrates systematic reading across multiple geographic traditions\n",
    "- **🕸️ Intellectual Connections**: Shows how different theoretical and methodological approaches inform my research\n",
    "- **🔬 Methodological Bridge**: Connects classical geographic theory to contemporary computational methods  \n",
    "- **🗺️ Research Roadmap**: Illustrates clear progression toward my built-environment-personality study\n",
    "\n",
    "The network visualizations reveal how my reading spans traditional geographic theory, contemporary psychology-geography interfaces, and cutting-edge computational methods - creating a foundation for innovative research at the intersection of these domains."
   ]
  }
 ],
 "metadata": {
  "kernelspec": {
   "display_name": "cs378",
   "language": "python",
   "name": "python3"
  },
  "language_info": {
   "codemirror_mode": {
    "name": "ipython",
    "version": 3
   },
   "file_extension": ".py",
   "mimetype": "text/x-python",
   "name": "python",
   "nbconvert_exporter": "python",
   "pygments_lexer": "ipython3",
   "version": "3.12.11"
  }
 },
 "nbformat": 4,
 "nbformat_minor": 5
}
